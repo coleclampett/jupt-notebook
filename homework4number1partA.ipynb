{
 "cells": [
  {
   "cell_type": "code",
   "execution_count": 1,
   "metadata": {},
   "outputs": [
    {
     "data": {
      "text/plain": [
       "<torch._C.Generator at 0x15babf85350>"
      ]
     },
     "execution_count": 1,
     "metadata": {},
     "output_type": "execute_result"
    }
   ],
   "source": [
    "%matplotlib inline\n",
    "from matplotlib import pyplot as plt\n",
    "import numpy as np\n",
    "import torch\n",
    "\n",
    "torch.set_printoptions(edgeitems=2)\n",
    "torch.manual_seed(123)"
   ]
  },
  {
   "cell_type": "code",
   "execution_count": 2,
   "metadata": {},
   "outputs": [],
   "source": [
    "class_names = ['airplane','automobile','bird','cat','deer',\n",
    "               'dog','frog','horse','ship','truck']\n"
   ]
  },
  {
   "cell_type": "code",
   "execution_count": 3,
   "metadata": {},
   "outputs": [
    {
     "name": "stdout",
     "output_type": "stream",
     "text": [
      "Files already downloaded and verified\n"
     ]
    }
   ],
   "source": [
    "from torchvision import datasets, transforms\n",
    "cifar10 = datasets.CIFAR10(\n",
    "    'data', train=True, download=True,\n",
    "    transform=transforms.Compose([\n",
    "        transforms.ToTensor(),\n",
    "        transforms.Normalize((0.4915, 0.4823, 0.4468),\n",
    "                             (0.2470, 0.2435, 0.2616))\n",
    "    ]))\n"
   ]
  },
  {
   "cell_type": "code",
   "execution_count": 4,
   "metadata": {},
   "outputs": [],
   "source": [
    "cifar10_val = datasets.CIFAR10(\n",
    "    'data', train=False, download=False,\n",
    "    transform=transforms.Compose([\n",
    "        transforms.ToTensor(),\n",
    "        transforms.Normalize((0.4915, 0.4823, 0.4468),\n",
    "                             (0.2470, 0.2435, 0.2616))\n",
    "    ]))"
   ]
  },
  {
   "cell_type": "code",
   "execution_count": 5,
   "metadata": {},
   "outputs": [],
   "source": [
    "label_map = {6: 0, 9: 1}\n",
    "class_names = ['airplane', 'bird']\n",
    "cifar2 = [(img, label_map[label])\n",
    "          for img, label in cifar10 \n",
    "          if label in [6, 9]]\n",
    "cifar2_val = [(img, label_map[label])\n",
    "              for img, label in cifar10_val\n",
    "              if label in [6, 9]]"
   ]
  },
  {
   "cell_type": "code",
   "execution_count": 6,
   "metadata": {},
   "outputs": [],
   "source": [
    "import torch.nn as nn\n",
    "\n",
    "n_out = 2\n",
    "\n",
    "model = nn.Sequential(\n",
    "            nn.Linear(\n",
    "                3072,  # <1>\n",
    "                512,   # <2>\n",
    "            ),\n",
    "            nn.Tanh(),\n",
    "            nn.Linear(\n",
    "                512,   # <2>\n",
    "                n_out, # <3>\n",
    "            )\n",
    "        )"
   ]
  },
  {
   "cell_type": "code",
   "execution_count": 7,
   "metadata": {},
   "outputs": [],
   "source": [
    "def softmax(x):\n",
    "    return torch.exp(x) / torch.exp(x).sum()"
   ]
  },
  {
   "cell_type": "code",
   "execution_count": 8,
   "metadata": {},
   "outputs": [
    {
     "data": {
      "text/plain": [
       "tensor([0.0900, 0.2447, 0.6652])"
      ]
     },
     "execution_count": 8,
     "metadata": {},
     "output_type": "execute_result"
    }
   ],
   "source": [
    "x = torch.tensor([1.0, 2.0, 3.0])\n",
    "\n",
    "softmax(x)"
   ]
  },
  {
   "cell_type": "code",
   "execution_count": 9,
   "metadata": {},
   "outputs": [
    {
     "data": {
      "text/plain": [
       "tensor(1.)"
      ]
     },
     "execution_count": 9,
     "metadata": {},
     "output_type": "execute_result"
    }
   ],
   "source": [
    "softmax(x).sum()"
   ]
  },
  {
   "cell_type": "code",
   "execution_count": 10,
   "metadata": {},
   "outputs": [
    {
     "data": {
      "text/plain": [
       "tensor([[0.0900, 0.2447, 0.6652],\n",
       "        [0.0900, 0.2447, 0.6652]])"
      ]
     },
     "execution_count": 10,
     "metadata": {},
     "output_type": "execute_result"
    }
   ],
   "source": [
    "softmax = nn.Softmax(dim=1)\n",
    "\n",
    "x = torch.tensor([[1.0, 2.0, 3.0],\n",
    "                  [1.0, 2.0, 3.0]])\n",
    "\n",
    "softmax(x)"
   ]
  },
  {
   "cell_type": "code",
   "execution_count": 11,
   "metadata": {},
   "outputs": [],
   "source": [
    "model = nn.Sequential(\n",
    "            nn.Linear(3072, 512),\n",
    "            nn.Tanh(),\n",
    "            nn.Linear(512, 2),\n",
    "            nn.Softmax(dim=1))"
   ]
  },
  {
   "cell_type": "code",
   "execution_count": 12,
   "metadata": {},
   "outputs": [
    {
     "name": "stderr",
     "output_type": "stream",
     "text": [
      "Clipping input data to the valid range for imshow with RGB data ([0..1] for floats or [0..255] for integers).\n"
     ]
    },
    {
     "data": {
      "image/png": "[encoded data removed]",
      "text/plain": [
       "<Figure size 432x288 with 1 Axes>"
      ]
     },
     "metadata": {
      "needs_background": "light"
     },
     "output_type": "display_data"
    }
   ],
   "source": [
    "img, _ = cifar2[0]\n",
    "\n",
    "plt.imshow(img.permute(1, 2, 0))\n",
    "plt.show()"
   ]
  },
  {
   "cell_type": "code",
   "execution_count": 13,
   "metadata": {},
   "outputs": [],
   "source": [
    "img_batch = img.view(-1).unsqueeze(0)"
   ]
  },
  {
   "cell_type": "code",
   "execution_count": 14,
   "metadata": {},
   "outputs": [
    {
     "data": {
      "text/plain": [
       "tensor([[0.4813, 0.5187]], grad_fn=<SoftmaxBackward>)"
      ]
     },
     "execution_count": 14,
     "metadata": {},
     "output_type": "execute_result"
    }
   ],
   "source": [
    "out = model(img_batch)\n",
    "out"
   ]
  },
  {
   "cell_type": "code",
   "execution_count": 15,
   "metadata": {},
   "outputs": [
    {
     "data": {
      "text/plain": [
       "tensor([1])"
      ]
     },
     "execution_count": 15,
     "metadata": {},
     "output_type": "execute_result"
    }
   ],
   "source": [
    "\n",
    "_, index = torch.max(out, dim=1)\n",
    "\n",
    "index"
   ]
  },
  {
   "cell_type": "code",
   "execution_count": 16,
   "metadata": {},
   "outputs": [
    {
     "data": {
      "text/plain": [
       "tensor([[1., 0.],\n",
       "        [1., 0.],\n",
       "        [0., 1.],\n",
       "        [0., 1.]])"
      ]
     },
     "execution_count": 16,
     "metadata": {},
     "output_type": "execute_result"
    }
   ],
   "source": [
    "out = torch.tensor([\n",
    "    [0.6, 0.4],\n",
    "    [0.9, 0.1],\n",
    "    [0.3, 0.7],\n",
    "    [0.2, 0.8],\n",
    "])\n",
    "class_index = torch.tensor([0, 0, 1, 1]).unsqueeze(1)\n",
    "\n",
    "truth = torch.zeros((4,2))\n",
    "truth.scatter_(dim=1, index=class_index, value=1.0)\n",
    "truth"
   ]
  },
  {
   "cell_type": "code",
   "execution_count": 17,
   "metadata": {},
   "outputs": [
    {
     "data": {
      "text/plain": [
       "tensor(0.1500)"
      ]
     },
     "execution_count": 17,
     "metadata": {},
     "output_type": "execute_result"
    }
   ],
   "source": [
    "\n",
    "def mse(out):\n",
    "    return ((out - truth) ** 2).sum(dim=1).mean()\n",
    "mse(out)"
   ]
  },
  {
   "cell_type": "code",
   "execution_count": 18,
   "metadata": {},
   "outputs": [
    {
     "data": {
      "text/plain": [
       "tensor([[0.6000],\n",
       "        [0.9000],\n",
       "        [0.7000],\n",
       "        [0.8000]])"
      ]
     },
     "execution_count": 18,
     "metadata": {},
     "output_type": "execute_result"
    }
   ],
   "source": [
    "out.gather(dim=1, index=class_index)"
   ]
  },
  {
   "cell_type": "code",
   "execution_count": 19,
   "metadata": {},
   "outputs": [
    {
     "data": {
      "text/plain": [
       "tensor([0.3024])"
      ]
     },
     "execution_count": 19,
     "metadata": {},
     "output_type": "execute_result"
    }
   ],
   "source": [
    "def likelihood(out):\n",
    "    prod = 1.0\n",
    "    for x in out.gather(dim=1, index=class_index):\n",
    "        prod *= x\n",
    "    return prod\n",
    "\n",
    "likelihood(out)"
   ]
  },
  {
   "cell_type": "code",
   "execution_count": 20,
   "metadata": {},
   "outputs": [
    {
     "data": {
      "text/plain": [
       "tensor([1.1960])"
      ]
     },
     "execution_count": 20,
     "metadata": {},
     "output_type": "execute_result"
    }
   ],
   "source": [
    "def neg_log_likelihood(out):\n",
    "    return -likelihood(out).log()\n",
    "\n",
    "neg_log_likelihood(out)"
   ]
  },
  {
   "cell_type": "code",
   "execution_count": 21,
   "metadata": {},
   "outputs": [
    {
     "data": {
      "text/plain": [
       "tensor([0.0750, 0.1500, 0.2500, 0.4750])"
      ]
     },
     "execution_count": 21,
     "metadata": {},
     "output_type": "execute_result"
    }
   ],
   "source": [
    "\n",
    "out0 = out.clone().detach()\n",
    "out0[0] = torch.tensor([0.9, 0.1]) # more right\n",
    "\n",
    "out2 = out.clone().detach()\n",
    "out2[0] = torch.tensor([0.4, 0.6]) # slightly wrong\n",
    "\n",
    "out3 = out.clone().detach()\n",
    "out3[0] = torch.tensor([0.1, 0.9]) # very wrong\n",
    "\n",
    "mse_comparison = torch.tensor([mse(o) for o in [out0, out, out2, out3]])\n",
    "mse_comparison"
   ]
  },
  {
   "cell_type": "code",
   "execution_count": 22,
   "metadata": {},
   "outputs": [
    {
     "data": {
      "text/plain": [
       "tensor([-50.0000,   0.0000,  66.6667, 216.6667])"
      ]
     },
     "execution_count": 22,
     "metadata": {},
     "output_type": "execute_result"
    }
   ],
   "source": [
    "((mse_comparison / mse_comparison[1]) - 1) * 100"
   ]
  },
  {
   "cell_type": "code",
   "execution_count": 23,
   "metadata": {},
   "outputs": [
    {
     "data": {
      "text/plain": [
       "tensor([0.7905, 1.1960, 1.6015, 2.9878])"
      ]
     },
     "execution_count": 23,
     "metadata": {},
     "output_type": "execute_result"
    }
   ],
   "source": [
    "nll_comparison = torch.tensor([neg_log_likelihood(o) \n",
    "                               for o in [out0, out, out2, out3]])\n",
    "nll_comparison"
   ]
  },
  {
   "cell_type": "code",
   "execution_count": 24,
   "metadata": {},
   "outputs": [
    {
     "data": {
      "text/plain": [
       "tensor([-33.9016,   0.0000,  33.9016, 149.8121])"
      ]
     },
     "execution_count": 24,
     "metadata": {},
     "output_type": "execute_result"
    }
   ],
   "source": [
    "((nll_comparison / nll_comparison[1]) - 1) * 100"
   ]
  },
  {
   "cell_type": "code",
   "execution_count": 25,
   "metadata": {},
   "outputs": [
    {
     "data": {
      "text/plain": [
       "tensor([[0., 1.]])"
      ]
     },
     "execution_count": 25,
     "metadata": {},
     "output_type": "execute_result"
    }
   ],
   "source": [
    "\n",
    "softmax = nn.Softmax(dim=1)\n",
    "\n",
    "log_softmax = nn.LogSoftmax(dim=1)\n",
    "\n",
    "x = torch.tensor([[0.0, 104.0]])\n",
    "\n",
    "softmax(x)"
   ]
  },
  {
   "cell_type": "code",
   "execution_count": 26,
   "metadata": {},
   "outputs": [
    {
     "data": {
      "text/plain": [
       "tensor([[0., 1.]])"
      ]
     },
     "execution_count": 26,
     "metadata": {},
     "output_type": "execute_result"
    }
   ],
   "source": [
    "softmax = nn.Softmax(dim=1)\n",
    "\n",
    "log_softmax = nn.LogSoftmax(dim=1)\n",
    "\n",
    "x = torch.tensor([[0.0, 104.0]])\n",
    "\n",
    "softmax(x)"
   ]
  },
  {
   "cell_type": "code",
   "execution_count": 27,
   "metadata": {},
   "outputs": [
    {
     "data": {
      "text/plain": [
       "tensor([[-inf, 0.]])"
      ]
     },
     "execution_count": 27,
     "metadata": {},
     "output_type": "execute_result"
    }
   ],
   "source": [
    "torch.log(softmax(x))"
   ]
  },
  {
   "cell_type": "code",
   "execution_count": 28,
   "metadata": {},
   "outputs": [
    {
     "data": {
      "text/plain": [
       "tensor([[-104.,    0.]])"
      ]
     },
     "execution_count": 28,
     "metadata": {},
     "output_type": "execute_result"
    }
   ],
   "source": [
    "log_softmax(x)"
   ]
  },
  {
   "cell_type": "code",
   "execution_count": 29,
   "metadata": {},
   "outputs": [
    {
     "data": {
      "text/plain": [
       "tensor([[0., 1.]])"
      ]
     },
     "execution_count": 29,
     "metadata": {},
     "output_type": "execute_result"
    }
   ],
   "source": [
    "torch.exp(log_softmax(x))"
   ]
  },
  {
   "cell_type": "code",
   "execution_count": 30,
   "metadata": {},
   "outputs": [],
   "source": [
    "model = nn.Sequential(\n",
    "            nn.Linear(3072, 512),\n",
    "            nn.Tanh(),\n",
    "            nn.Linear(512, 2),\n",
    "            nn.LogSoftmax(dim=1))"
   ]
  },
  {
   "cell_type": "code",
   "execution_count": 31,
   "metadata": {},
   "outputs": [],
   "source": [
    "loss = nn.NLLLoss()"
   ]
  },
  {
   "cell_type": "code",
   "execution_count": 32,
   "metadata": {},
   "outputs": [
    {
     "data": {
      "text/plain": [
       "tensor(0.8378, grad_fn=<NllLossBackward>)"
      ]
     },
     "execution_count": 32,
     "metadata": {},
     "output_type": "execute_result"
    }
   ],
   "source": [
    "img, label = cifar2[0]\n",
    "\n",
    "out = model(img.view(-1).unsqueeze(0))\n",
    "\n",
    "loss(out, torch.tensor([label]))"
   ]
  },
  {
   "cell_type": "code",
   "execution_count": 33,
   "metadata": {},
   "outputs": [
    {
     "name": "stdout",
     "output_type": "stream",
     "text": [
      "Epoch: 0, Loss: 0.273059\n",
      "t3: -2.748128652572632\n",
      "Epoch: 1, Loss: 0.267634\n",
      "t3: -4.637125253677368\n",
      "Epoch: 2, Loss: 0.103204\n",
      "t3: -6.512107849121094\n",
      "Epoch: 3, Loss: 0.304981\n",
      "t3: -8.394071817398071\n",
      "Epoch: 4, Loss: 0.193909\n",
      "t3: -10.310943841934204\n",
      "Epoch: 5, Loss: 0.079469\n",
      "t3: -12.195899724960327\n",
      "Epoch: 6, Loss: 0.114009\n",
      "t3: -14.060909509658813\n",
      "Epoch: 7, Loss: 0.055402\n",
      "t3: -15.881039381027222\n",
      "Epoch: 8, Loss: 0.143898\n",
      "t3: -17.71313714981079\n",
      "Epoch: 9, Loss: 0.206610\n",
      "t3: -19.56968092918396\n",
      "Epoch: 10, Loss: 0.187704\n",
      "t3: -21.407308340072632\n",
      "Epoch: 11, Loss: 0.272994\n",
      "t3: -23.24490761756897\n",
      "Epoch: 12, Loss: 0.202973\n",
      "t3: -25.1219425201416\n",
      "Epoch: 13, Loss: 0.267931\n",
      "t3: -26.93010640144348\n",
      "Epoch: 14, Loss: 0.215639\n",
      "t3: -28.75274419784546\n",
      "Epoch: 15, Loss: 0.428310\n",
      "t3: -30.553974390029907\n",
      "Epoch: 16, Loss: 0.206990\n",
      "t3: -32.4110062122345\n",
      "Epoch: 17, Loss: 0.236499\n",
      "t3: -34.242106437683105\n",
      "Epoch: 18, Loss: 0.128360\n",
      "t3: -36.066227197647095\n",
      "Epoch: 19, Loss: 0.151824\n",
      "t3: -37.88735365867615\n",
      "Epoch: 20, Loss: 0.161146\n",
      "t3: -39.72443628311157\n",
      "Epoch: 21, Loss: 0.080049\n",
      "t3: -41.53758478164673\n",
      "Epoch: 22, Loss: 0.218637\n",
      "t3: -43.34774136543274\n",
      "Epoch: 23, Loss: 0.067192\n",
      "t3: -45.12251043319702\n",
      "Epoch: 24, Loss: 0.066998\n",
      "t3: -46.908785820007324\n",
      "Epoch: 25, Loss: 0.106827\n",
      "t3: -48.723928928375244\n",
      "Epoch: 26, Loss: 0.039302\n",
      "t3: -50.56657266616821\n",
      "Epoch: 27, Loss: 0.320639\n",
      "t3: -52.358776330947876\n",
      "Epoch: 28, Loss: 0.070978\n",
      "t3: -54.1998507976532\n",
      "Epoch: 29, Loss: 0.058866\n",
      "t3: -56.04946255683899\n",
      "Epoch: 30, Loss: 0.032351\n",
      "t3: -57.86012864112854\n",
      "Epoch: 31, Loss: 0.052867\n",
      "t3: -59.72070550918579\n",
      "Epoch: 32, Loss: 0.027613\n",
      "t3: -61.53584933280945\n",
      "Epoch: 33, Loss: 0.075750\n",
      "t3: -63.47616934776306\n",
      "Epoch: 34, Loss: 0.026681\n",
      "t3: -66.06279420852661\n",
      "Epoch: 35, Loss: 0.099702\n",
      "t3: -68.69874024391174\n",
      "Epoch: 36, Loss: 0.014963\n",
      "t3: -70.57072973251343\n",
      "Epoch: 37, Loss: 0.040577\n",
      "t3: -72.78580331802368\n",
      "Epoch: 38, Loss: 0.027145\n",
      "t3: -74.88219237327576\n",
      "Epoch: 39, Loss: 0.054135\n",
      "t3: -76.95065879821777\n",
      "Epoch: 40, Loss: 0.090397\n",
      "t3: -79.02119159698486\n",
      "Epoch: 41, Loss: 0.017991\n",
      "t3: -81.41579174995422\n",
      "Epoch: 42, Loss: 0.110922\n",
      "t3: -83.6966986656189\n",
      "Epoch: 43, Loss: 0.013531\n",
      "t3: -86.27976942062378\n",
      "Epoch: 44, Loss: 0.060925\n",
      "t3: -88.28739714622498\n",
      "Epoch: 45, Loss: 0.038116\n",
      "t3: -90.2072594165802\n",
      "Epoch: 46, Loss: 0.045797\n",
      "t3: -92.09820032119751\n",
      "Epoch: 47, Loss: 0.021591\n",
      "t3: -94.02706623077393\n",
      "Epoch: 48, Loss: 0.026159\n",
      "t3: -95.94094395637512\n",
      "Epoch: 49, Loss: 0.018892\n",
      "t3: -97.83687043190002\n",
      "Epoch: 50, Loss: 0.021750\n",
      "t3: -99.68193411827087\n",
      "Epoch: 51, Loss: 0.010823\n",
      "t3: -101.48909783363342\n",
      "Epoch: 52, Loss: 0.007039\n",
      "t3: -103.29028034210205\n",
      "Epoch: 53, Loss: 0.022929\n",
      "t3: -105.1099910736084\n",
      "Epoch: 54, Loss: 0.016131\n",
      "t3: -106.9201431274414\n",
      "Epoch: 55, Loss: 0.016706\n",
      "t3: -108.76221370697021\n",
      "Epoch: 56, Loss: 0.023463\n",
      "t3: -110.67808890342712\n",
      "Epoch: 57, Loss: 0.015562\n",
      "t3: -112.55207467079163\n",
      "Epoch: 58, Loss: 0.022758\n",
      "t3: -114.47792172431946\n",
      "Epoch: 59, Loss: 0.029351\n",
      "t3: -116.68800640106201\n",
      "Epoch: 60, Loss: 0.020810\n",
      "t3: -118.57595562934875\n",
      "Epoch: 61, Loss: 0.008679\n",
      "t3: -120.40904998779297\n",
      "Epoch: 62, Loss: 0.003308\n",
      "t3: -122.2650842666626\n",
      "Epoch: 63, Loss: 0.013589\n",
      "t3: -124.0941903591156\n",
      "Epoch: 64, Loss: 0.005109\n",
      "t3: -125.8973662853241\n",
      "Epoch: 65, Loss: 0.010107\n",
      "t3: -127.70153903961182\n",
      "Epoch: 66, Loss: 0.011050\n",
      "t3: -129.54859590530396\n",
      "Epoch: 67, Loss: 0.009581\n",
      "t3: -131.37975978851318\n",
      "Epoch: 68, Loss: 0.013809\n",
      "t3: -133.1809401512146\n",
      "Epoch: 69, Loss: 0.021178\n",
      "t3: -135.00805187225342\n",
      "Epoch: 70, Loss: 0.006878\n",
      "t3: -136.8321704864502\n",
      "Epoch: 71, Loss: 0.009795\n",
      "t3: -138.66426873207092\n",
      "Epoch: 72, Loss: 0.019120\n",
      "t3: -140.48539662361145\n",
      "Epoch: 73, Loss: 0.005029\n",
      "t3: -142.34841060638428\n",
      "Epoch: 74, Loss: 0.012709\n",
      "t3: -144.17309403419495\n",
      "Epoch: 75, Loss: 0.004834\n",
      "t3: -145.98225331306458\n",
      "Epoch: 76, Loss: 0.032040\n",
      "t3: -147.80138540267944\n",
      "Epoch: 77, Loss: 0.009165\n",
      "t3: -149.63000631332397\n",
      "Epoch: 78, Loss: 0.002904\n",
      "t3: -151.43025469779968\n",
      "Epoch: 79, Loss: 0.003008\n",
      "t3: -153.26733708381653\n",
      "Epoch: 80, Loss: 0.004512\n",
      "t3: -155.08897638320923\n",
      "Epoch: 81, Loss: 0.011185\n",
      "t3: -156.95006465911865\n",
      "Epoch: 82, Loss: 0.008519\n",
      "t3: -158.77071332931519\n",
      "Epoch: 83, Loss: 0.010719\n",
      "t3: -160.59882140159607\n",
      "Epoch: 84, Loss: 0.003275\n",
      "t3: -162.41501641273499\n",
      "Epoch: 85, Loss: 0.014403\n",
      "t3: -164.23918962478638\n",
      "Epoch: 86, Loss: 0.005915\n",
      "t3: -166.06131410598755\n",
      "Epoch: 87, Loss: 0.014668\n",
      "t3: -167.93031358718872\n",
      "Epoch: 88, Loss: 0.009440\n",
      "t3: -169.77637314796448\n",
      "Epoch: 89, Loss: 0.006236\n",
      "t3: -171.56658387184143\n",
      "Epoch: 90, Loss: 0.007247\n",
      "t3: -173.3971996307373\n",
      "Epoch: 91, Loss: 0.014022\n",
      "t3: -175.2442557811737\n",
      "Epoch: 92, Loss: 0.003401\n",
      "t3: -177.03652477264404\n",
      "Epoch: 93, Loss: 0.004419\n",
      "t3: -178.86163854599\n",
      "Epoch: 94, Loss: 0.008505\n",
      "t3: -180.64637446403503\n",
      "Epoch: 95, Loss: 0.004555\n",
      "t3: -182.54237151145935\n",
      "Epoch: 96, Loss: 0.009197\n",
      "t3: -184.38244819641113\n",
      "Epoch: 97, Loss: 0.003148\n",
      "t3: -186.1842005252838\n",
      "Epoch: 98, Loss: 0.006926\n",
      "t3: -187.99535465240479\n",
      "Epoch: 99, Loss: 0.002565\n",
      "t3: -189.81499457359314\n",
      "Epoch: 100, Loss: 0.011847\n",
      "t3: -191.67108345031738\n",
      "Epoch: 101, Loss: 0.003288\n",
      "t3: -193.47126698493958\n",
      "Epoch: 102, Loss: 0.002804\n",
      "t3: -195.32582092285156\n",
      "Epoch: 103, Loss: 0.006404\n",
      "t3: -197.12008953094482\n",
      "Epoch: 104, Loss: 0.000995\n",
      "t3: -198.94420862197876\n",
      "Epoch: 105, Loss: 0.004663\n",
      "t3: -200.75596475601196\n",
      "Epoch: 106, Loss: 0.004955\n",
      "t3: -202.58307266235352\n",
      "Epoch: 107, Loss: 0.004151\n",
      "t3: -204.59568738937378\n",
      "Epoch: 108, Loss: 0.006742\n",
      "t3: -206.53749203681946\n",
      "Epoch: 109, Loss: 0.007177\n",
      "t3: -208.3875412940979\n",
      "Epoch: 110, Loss: 0.001885\n",
      "t3: -210.2535479068756\n",
      "Epoch: 111, Loss: 0.006542\n",
      "t3: -212.08920431137085\n",
      "Epoch: 112, Loss: 0.002169\n",
      "t3: -213.9008731842041\n",
      "Epoch: 113, Loss: 0.003474\n",
      "t3: -215.70210671424866\n",
      "Epoch: 114, Loss: 0.000919\n",
      "t3: -217.59903049468994\n",
      "Epoch: 115, Loss: 0.008596\n",
      "t3: -219.53485131263733\n",
      "Epoch: 116, Loss: 0.004237\n",
      "t3: -221.37991404533386\n",
      "Epoch: 117, Loss: 0.001903\n",
      "t3: -223.21500444412231\n",
      "Epoch: 118, Loss: 0.003768\n",
      "t3: -225.10993432998657\n",
      "Epoch: 119, Loss: 0.009466\n",
      "t3: -226.95556569099426\n",
      "Epoch: 120, Loss: 0.003718\n",
      "t3: -228.76871514320374\n",
      "Epoch: 121, Loss: 0.012214\n",
      "t3: -230.6053659915924\n",
      "Epoch: 122, Loss: 0.007937\n",
      "t3: -232.46239757537842\n",
      "Epoch: 123, Loss: 0.002273\n",
      "t3: -234.31543850898743\n",
      "Epoch: 124, Loss: 0.006511\n",
      "t3: -236.22034239768982\n",
      "Epoch: 125, Loss: 0.004265\n",
      "t3: -238.0624144077301\n",
      "Epoch: 126, Loss: 0.006636\n",
      "t3: -239.8805480003357\n",
      "Epoch: 127, Loss: 0.003417\n",
      "t3: -241.71819734573364\n",
      "Epoch: 128, Loss: 0.003115\n",
      "t3: -243.5602695941925\n",
      "Epoch: 129, Loss: 0.002538\n",
      "t3: -245.38091278076172\n",
      "Epoch: 130, Loss: 0.007799\n",
      "t3: -247.2040822505951\n",
      "Epoch: 131, Loss: 0.004393\n",
      "t3: -249.02671670913696\n",
      "Epoch: 132, Loss: 0.001920\n",
      "t3: -250.86486196517944\n",
      "Epoch: 133, Loss: 0.002423\n",
      "t3: -252.73186659812927\n",
      "Epoch: 134, Loss: 0.002207\n",
      "t3: -254.53555583953857\n",
      "Epoch: 135, Loss: 0.000476\n",
      "t3: -256.3547384738922\n",
      "Epoch: 136, Loss: 0.000725\n",
      "t3: -258.197806596756\n",
      "Epoch: 137, Loss: 0.003067\n",
      "t3: -260.0204493999481\n",
      "Epoch: 138, Loss: 0.004077\n",
      "t3: -261.82367300987244\n",
      "Epoch: 139, Loss: 0.003021\n",
      "t3: -263.6328372955322\n",
      "Epoch: 140, Loss: 0.003197\n",
      "t3: -265.4595181941986\n",
      "Epoch: 141, Loss: 0.002715\n",
      "t3: -267.30557775497437\n",
      "Epoch: 142, Loss: 0.002808\n",
      "t3: -269.15961718559265\n",
      "Epoch: 143, Loss: 0.003029\n",
      "t3: -270.9827380180359\n",
      "Epoch: 144, Loss: 0.001859\n",
      "t3: -272.84131479263306\n",
      "Epoch: 145, Loss: 0.004014\n",
      "t3: -274.6809027194977\n",
      "Epoch: 146, Loss: 0.003295\n",
      "t3: -276.47517228126526\n",
      "Epoch: 147, Loss: 0.001340\n",
      "t3: -278.2653841972351\n",
      "Epoch: 148, Loss: 0.004161\n",
      "t3: -280.08602023124695\n",
      "Epoch: 149, Loss: 0.001004\n",
      "t3: -281.9161765575409\n",
      "Epoch: 150, Loss: 0.001915\n",
      "t3: -283.76722383499146\n",
      "Epoch: 151, Loss: 0.002747\n",
      "t3: -285.53050565719604\n",
      "Epoch: 152, Loss: 0.001478\n",
      "t3: -287.3616087436676\n",
      "Epoch: 153, Loss: 0.003436\n",
      "t3: -289.2261288166046\n",
      "Epoch: 154, Loss: 0.003494\n",
      "t3: -291.0767183303833\n",
      "Epoch: 155, Loss: 0.000561\n",
      "t3: -292.912805557251\n",
      "Epoch: 156, Loss: 0.001583\n",
      "t3: -294.7279486656189\n",
      "Epoch: 157, Loss: 0.005355\n",
      "t3: -296.57458329200745\n",
      "Epoch: 158, Loss: 0.003703\n",
      "t3: -298.43261194229126\n",
      "Epoch: 159, Loss: 0.004322\n",
      "t3: -300.23778796195984\n",
      "Epoch: 160, Loss: 0.001915\n",
      "t3: -302.08982515335083\n",
      "Epoch: 161, Loss: 0.001798\n",
      "t3: -303.91195368766785\n",
      "Epoch: 162, Loss: 0.003807\n",
      "t3: -305.73159289360046\n",
      "Epoch: 163, Loss: 0.003020\n",
      "t3: -307.5328018665314\n",
      "Epoch: 164, Loss: 0.001980\n",
      "t3: -309.3654673099518\n",
      "Epoch: 165, Loss: 0.004530\n",
      "t3: -311.20255064964294\n",
      "Epoch: 166, Loss: 0.001223\n",
      "t3: -312.98732137680054\n",
      "Epoch: 167, Loss: 0.002239\n",
      "t3: -314.7715482711792\n",
      "Epoch: 168, Loss: 0.000604\n",
      "t3: -316.60663747787476\n",
      "Epoch: 169, Loss: 0.002212\n",
      "t3: -318.38388085365295\n",
      "Epoch: 170, Loss: 0.002832\n",
      "t3: -320.2154951095581\n",
      "Epoch: 171, Loss: 0.001276\n",
      "t3: -322.0476460456848\n",
      "Epoch: 172, Loss: 0.000871\n",
      "t3: -324.00042152404785\n",
      "Epoch: 173, Loss: 0.003145\n",
      "t3: -325.8649477958679\n",
      "Epoch: 174, Loss: 0.003459\n",
      "t3: -327.71904706954956\n",
      "Epoch: 175, Loss: 0.003470\n",
      "t3: -329.5426814556122\n",
      "Epoch: 176, Loss: 0.004689\n",
      "t3: -331.3778557777405\n",
      "Epoch: 177, Loss: 0.001240\n",
      "t3: -333.2009816169739\n",
      "Epoch: 178, Loss: 0.002545\n",
      "t3: -335.13082218170166\n",
      "Epoch: 179, Loss: 0.001517\n",
      "t3: -337.29602313041687\n",
      "Epoch: 180, Loss: 0.001269\n",
      "t3: -339.4931421279907\n",
      "Epoch: 181, Loss: 0.004223\n",
      "t3: -341.6543583869934\n",
      "Epoch: 182, Loss: 0.003244\n",
      "t3: -343.5592610836029\n",
      "Epoch: 183, Loss: 0.002836\n",
      "t3: -345.45020151138306\n",
      "Epoch: 184, Loss: 0.002319\n",
      "t3: -347.28229904174805\n",
      "Epoch: 185, Loss: 0.001670\n",
      "t3: -349.12137961387634\n",
      "Epoch: 186, Loss: 0.003763\n",
      "t3: -350.96296548843384\n",
      "Epoch: 187, Loss: 0.002367\n",
      "t3: -352.76819705963135\n",
      "Epoch: 188, Loss: 0.002609\n",
      "t3: -354.60727429389954\n",
      "Epoch: 189, Loss: 0.002206\n",
      "t3: -356.4458599090576\n",
      "Epoch: 190, Loss: 0.002097\n",
      "t3: -358.2360715866089\n",
      "Epoch: 191, Loss: 0.001409\n",
      "t3: -360.0631811618805\n",
      "Epoch: 192, Loss: 0.003740\n",
      "t3: -361.85743618011475\n",
      "Epoch: 193, Loss: 0.005356\n",
      "t3: -363.8511016368866\n",
      "Epoch: 194, Loss: 0.001513\n",
      "t3: -365.91956901550293\n",
      "Epoch: 195, Loss: 0.001480\n",
      "t3: -367.853392124176\n",
      "Epoch: 196, Loss: 0.000380\n",
      "t3: -369.68349528312683\n",
      "Epoch: 197, Loss: 0.000895\n",
      "t3: -371.5081272125244\n",
      "Epoch: 198, Loss: 0.002057\n",
      "t3: -373.3652296066284\n",
      "Epoch: 199, Loss: 0.001732\n",
      "t3: -375.24719405174255\n"
     ]
    }
   ],
   "source": [
    "import torch\n",
    "import torch.nn as nn\n",
    "import torch.optim as optim\n",
    "import time\n",
    "\n",
    "train_loader = torch.utils.data.DataLoader(cifar2, batch_size=64,\n",
    "                                           shuffle=True)\n",
    "\n",
    "model = nn.Sequential(\n",
    "            nn.Linear(3072, 512),\n",
    "            nn.Tanh(),\n",
    "            nn.Linear(512, 4),\n",
    "            nn.LogSoftmax(dim=1))\n",
    "\n",
    "learning_rate = 1e-2\n",
    "\n",
    "optimizer = optim.SGD(model.parameters(), lr=learning_rate)\n",
    "\n",
    "loss_fn = nn.NLLLoss()\n",
    "\n",
    "n_epochs = 200\n",
    "t1 = time.time()\n",
    "for epoch in range(n_epochs):\n",
    "    for imgs, labels in train_loader:\n",
    "        t2 = time.time()\n",
    "        outputs = model(imgs.view(imgs.shape[0], -1))\n",
    "        loss = loss_fn(outputs, labels)\n",
    "                \n",
    "        optimizer.zero_grad()\n",
    "        loss.backward()\n",
    "        optimizer.step()\n",
    "        t2 = time.time()\n",
    "        t3 = t1 -t2\n",
    "    print(\"Epoch: %d, Loss: %f\" % (epoch, float(loss)))\n",
    "    print (\"t3:\", t3 )"
   ]
  },
  {
   "cell_type": "code",
   "execution_count": 34,
   "metadata": {},
   "outputs": [],
   "source": [
    "train_loader = torch.utils.data.DataLoader(cifar2, batch_size=64,\n",
    "                                           shuffle=True)"
   ]
  },
  {
   "cell_type": "code",
   "execution_count": 35,
   "metadata": {},
   "outputs": [
    {
     "name": "stdout",
     "output_type": "stream",
     "text": [
      "Epoch: 0, Loss: 0.311581\n",
      "Epoch: 1, Loss: 0.253266\n",
      "Epoch: 2, Loss: 0.148927\n",
      "Epoch: 3, Loss: 0.173660\n",
      "Epoch: 4, Loss: 0.203652\n",
      "Epoch: 5, Loss: 0.196086\n",
      "Epoch: 6, Loss: 0.166124\n",
      "Epoch: 7, Loss: 0.148210\n",
      "Epoch: 8, Loss: 0.272409\n",
      "Epoch: 9, Loss: 0.360616\n",
      "Epoch: 10, Loss: 0.195339\n",
      "Epoch: 11, Loss: 0.174894\n",
      "Epoch: 12, Loss: 0.120948\n",
      "Epoch: 13, Loss: 0.100845\n",
      "Epoch: 14, Loss: 0.081434\n",
      "Epoch: 15, Loss: 0.253963\n",
      "Epoch: 16, Loss: 0.070082\n",
      "Epoch: 17, Loss: 0.059574\n",
      "Epoch: 18, Loss: 0.240505\n",
      "Epoch: 19, Loss: 0.334050\n",
      "Epoch: 20, Loss: 0.038998\n",
      "Epoch: 21, Loss: 0.190333\n",
      "Epoch: 22, Loss: 0.157580\n",
      "Epoch: 23, Loss: 0.087759\n",
      "Epoch: 24, Loss: 0.134370\n",
      "Epoch: 25, Loss: 0.057698\n",
      "Epoch: 26, Loss: 0.102789\n",
      "Epoch: 27, Loss: 0.053423\n",
      "Epoch: 28, Loss: 0.108020\n",
      "Epoch: 29, Loss: 0.028507\n",
      "Epoch: 30, Loss: 0.090682\n",
      "Epoch: 31, Loss: 0.061485\n",
      "Epoch: 32, Loss: 0.115234\n",
      "Epoch: 33, Loss: 0.037408\n",
      "Epoch: 34, Loss: 0.059182\n",
      "Epoch: 35, Loss: 0.069342\n",
      "Epoch: 36, Loss: 0.078443\n",
      "Epoch: 37, Loss: 0.102015\n",
      "Epoch: 38, Loss: 0.069451\n",
      "Epoch: 39, Loss: 0.031035\n",
      "Epoch: 40, Loss: 0.067115\n",
      "Epoch: 41, Loss: 0.092573\n",
      "Epoch: 42, Loss: 0.117559\n",
      "Epoch: 43, Loss: 0.024117\n",
      "Epoch: 44, Loss: 0.043823\n",
      "Epoch: 45, Loss: 0.056665\n",
      "Epoch: 46, Loss: 0.011071\n",
      "Epoch: 47, Loss: 0.030759\n",
      "Epoch: 48, Loss: 0.021369\n",
      "Epoch: 49, Loss: 0.057567\n",
      "Epoch: 50, Loss: 0.027180\n",
      "Epoch: 51, Loss: 0.011403\n",
      "Epoch: 52, Loss: 0.049328\n",
      "Epoch: 53, Loss: 0.046065\n",
      "Epoch: 54, Loss: 0.015855\n",
      "Epoch: 55, Loss: 0.016958\n",
      "Epoch: 56, Loss: 0.026888\n",
      "Epoch: 57, Loss: 0.014775\n",
      "Epoch: 58, Loss: 0.035053\n",
      "Epoch: 59, Loss: 0.022542\n",
      "Epoch: 60, Loss: 0.019093\n",
      "Epoch: 61, Loss: 0.019744\n",
      "Epoch: 62, Loss: 0.018388\n",
      "Epoch: 63, Loss: 0.024149\n",
      "Epoch: 64, Loss: 0.025590\n",
      "Epoch: 65, Loss: 0.027810\n",
      "Epoch: 66, Loss: 0.007293\n",
      "Epoch: 67, Loss: 0.014857\n",
      "Epoch: 68, Loss: 0.014307\n",
      "Epoch: 69, Loss: 0.006398\n",
      "Epoch: 70, Loss: 0.016419\n",
      "Epoch: 71, Loss: 0.010331\n",
      "Epoch: 72, Loss: 0.011060\n",
      "Epoch: 73, Loss: 0.007180\n",
      "Epoch: 74, Loss: 0.017837\n",
      "Epoch: 75, Loss: 0.011613\n",
      "Epoch: 76, Loss: 0.005449\n",
      "Epoch: 77, Loss: 0.025047\n",
      "Epoch: 78, Loss: 0.008274\n",
      "Epoch: 79, Loss: 0.016818\n",
      "Epoch: 80, Loss: 0.015212\n",
      "Epoch: 81, Loss: 0.010502\n",
      "Epoch: 82, Loss: 0.007715\n",
      "Epoch: 83, Loss: 0.005449\n",
      "Epoch: 84, Loss: 0.007168\n",
      "Epoch: 85, Loss: 0.012908\n",
      "Epoch: 86, Loss: 0.017295\n",
      "Epoch: 87, Loss: 0.012978\n",
      "Epoch: 88, Loss: 0.016443\n",
      "Epoch: 89, Loss: 0.008026\n",
      "Epoch: 90, Loss: 0.004468\n",
      "Epoch: 91, Loss: 0.007814\n",
      "Epoch: 92, Loss: 0.013021\n",
      "Epoch: 93, Loss: 0.007581\n",
      "Epoch: 94, Loss: 0.006693\n",
      "Epoch: 95, Loss: 0.010244\n",
      "Epoch: 96, Loss: 0.013627\n",
      "Epoch: 97, Loss: 0.008726\n",
      "Epoch: 98, Loss: 0.009270\n",
      "Epoch: 99, Loss: 0.001128\n",
      "Epoch: 100, Loss: 0.001800\n",
      "Epoch: 101, Loss: 0.008001\n",
      "Epoch: 102, Loss: 0.003719\n",
      "Epoch: 103, Loss: 0.003286\n",
      "Epoch: 104, Loss: 0.005522\n",
      "Epoch: 105, Loss: 0.006450\n",
      "Epoch: 106, Loss: 0.004845\n",
      "Epoch: 107, Loss: 0.006426\n",
      "Epoch: 108, Loss: 0.006360\n",
      "Epoch: 109, Loss: 0.004011\n",
      "Epoch: 110, Loss: 0.003694\n",
      "Epoch: 111, Loss: 0.003488\n",
      "Epoch: 112, Loss: 0.005551\n",
      "Epoch: 113, Loss: 0.003599\n",
      "Epoch: 114, Loss: 0.003122\n",
      "Epoch: 115, Loss: 0.003951\n",
      "Epoch: 116, Loss: 0.002715\n",
      "Epoch: 117, Loss: 0.004862\n",
      "Epoch: 118, Loss: 0.003607\n",
      "Epoch: 119, Loss: 0.005416\n",
      "Epoch: 120, Loss: 0.007367\n",
      "Epoch: 121, Loss: 0.007363\n",
      "Epoch: 122, Loss: 0.008787\n",
      "Epoch: 123, Loss: 0.005697\n",
      "Epoch: 124, Loss: 0.004622\n",
      "Epoch: 125, Loss: 0.008785\n",
      "Epoch: 126, Loss: 0.006028\n",
      "Epoch: 127, Loss: 0.000530\n",
      "Epoch: 128, Loss: 0.008905\n",
      "Epoch: 129, Loss: 0.003318\n",
      "Epoch: 130, Loss: 0.004746\n",
      "Epoch: 131, Loss: 0.002887\n",
      "Epoch: 132, Loss: 0.004033\n",
      "Epoch: 133, Loss: 0.005573\n",
      "Epoch: 134, Loss: 0.003016\n",
      "Epoch: 135, Loss: 0.001440\n",
      "Epoch: 136, Loss: 0.002803\n",
      "Epoch: 137, Loss: 0.007991\n",
      "Epoch: 138, Loss: 0.003795\n",
      "Epoch: 139, Loss: 0.003643\n",
      "Epoch: 140, Loss: 0.006537\n",
      "Epoch: 141, Loss: 0.005161\n",
      "Epoch: 142, Loss: 0.011917\n",
      "Epoch: 143, Loss: 0.003056\n",
      "Epoch: 144, Loss: 0.004784\n",
      "Epoch: 145, Loss: 0.003192\n",
      "Epoch: 146, Loss: 0.003652\n",
      "Epoch: 147, Loss: 0.008896\n",
      "Epoch: 148, Loss: 0.005109\n",
      "Epoch: 149, Loss: 0.005971\n",
      "Epoch: 150, Loss: 0.001900\n",
      "Epoch: 151, Loss: 0.002786\n",
      "Epoch: 152, Loss: 0.002341\n",
      "Epoch: 153, Loss: 0.002064\n",
      "Epoch: 154, Loss: 0.004131\n",
      "Epoch: 155, Loss: 0.001593\n",
      "Epoch: 156, Loss: 0.001188\n",
      "Epoch: 157, Loss: 0.001091\n",
      "Epoch: 158, Loss: 0.001266\n",
      "Epoch: 159, Loss: 0.001396\n",
      "Epoch: 160, Loss: 0.003012\n",
      "Epoch: 161, Loss: 0.001407\n",
      "Epoch: 162, Loss: 0.002181\n",
      "Epoch: 163, Loss: 0.002861\n",
      "Epoch: 164, Loss: 0.006457\n",
      "Epoch: 165, Loss: 0.000346\n",
      "Epoch: 166, Loss: 0.002646\n",
      "Epoch: 167, Loss: 0.000842\n",
      "Epoch: 168, Loss: 0.002528\n",
      "Epoch: 169, Loss: 0.004940\n",
      "Epoch: 170, Loss: 0.004176\n",
      "Epoch: 171, Loss: 0.004004\n",
      "Epoch: 172, Loss: 0.000848\n",
      "Epoch: 173, Loss: 0.005000\n",
      "Epoch: 174, Loss: 0.001199\n",
      "Epoch: 175, Loss: 0.001787\n",
      "Epoch: 176, Loss: 0.001797\n",
      "Epoch: 177, Loss: 0.002197\n",
      "Epoch: 178, Loss: 0.003983\n",
      "Epoch: 179, Loss: 0.001664\n",
      "Epoch: 180, Loss: 0.002991\n",
      "Epoch: 181, Loss: 0.004029\n",
      "Epoch: 182, Loss: 0.003263\n",
      "Epoch: 183, Loss: 0.004024\n",
      "Epoch: 184, Loss: 0.000909\n",
      "Epoch: 185, Loss: 0.001224\n",
      "Epoch: 186, Loss: 0.002525\n",
      "Epoch: 187, Loss: 0.003277\n",
      "Epoch: 188, Loss: 0.003523\n",
      "Epoch: 189, Loss: 0.002615\n",
      "Epoch: 190, Loss: 0.000661\n",
      "Epoch: 191, Loss: 0.001040\n",
      "Epoch: 192, Loss: 0.002168\n",
      "Epoch: 193, Loss: 0.001582\n",
      "Epoch: 194, Loss: 0.001789\n",
      "Epoch: 195, Loss: 0.002392\n",
      "Epoch: 196, Loss: 0.004174\n",
      "Epoch: 197, Loss: 0.002915\n",
      "Epoch: 198, Loss: 0.002887\n",
      "Epoch: 199, Loss: 0.001710\n"
     ]
    }
   ],
   "source": [
    "import torch\n",
    "import torch.nn as nn\n",
    "import torch.optim as optim\n",
    "\n",
    "train_loader = torch.utils.data.DataLoader(cifar2, batch_size=64,\n",
    "                                           shuffle=True)\n",
    "\n",
    "model = nn.Sequential(\n",
    "            nn.Linear(3072, 128),\n",
    "            nn.Tanh(),\n",
    "            nn.Linear(128,2),\n",
    "            nn.LogSoftmax(dim=1))\n",
    "\n",
    "learning_rate = 1e-2\n",
    "\n",
    "optimizer = optim.SGD(model.parameters(), lr=learning_rate)\n",
    "\n",
    "loss_fn = nn.NLLLoss()\n",
    "\n",
    "n_epochs = 200\n",
    "\n",
    "for epoch in range(n_epochs):\n",
    "    for imgs, labels in train_loader:\n",
    "        outputs = model(imgs.view(imgs.shape[0], -1))\n",
    "        loss = loss_fn(outputs, labels)\n",
    "\n",
    "        optimizer.zero_grad()\n",
    "        loss.backward()\n",
    "        optimizer.step()\n",
    "\n",
    "    print(\"Epoch: %d, Loss: %f\" % (epoch, float(loss)))"
   ]
  },
  {
   "cell_type": "code",
   "execution_count": 36,
   "metadata": {},
   "outputs": [
    {
     "name": "stdout",
     "output_type": "stream",
     "text": [
      "Epoch: 0, Loss: 0.495928\n",
      "Epoch: 1, Loss: 0.437014\n",
      "Epoch: 2, Loss: 0.240798\n",
      "Epoch: 3, Loss: 0.290249\n",
      "Epoch: 4, Loss: 0.107197\n",
      "Epoch: 5, Loss: 0.241871\n",
      "Epoch: 6, Loss: 0.095160\n",
      "Epoch: 7, Loss: 0.180488\n",
      "Epoch: 8, Loss: 0.231711\n",
      "Epoch: 9, Loss: 0.164056\n",
      "Epoch: 10, Loss: 0.230373\n",
      "Epoch: 11, Loss: 0.104626\n",
      "Epoch: 12, Loss: 0.209761\n",
      "Epoch: 13, Loss: 0.302432\n",
      "Epoch: 14, Loss: 0.161054\n",
      "Epoch: 15, Loss: 0.106048\n",
      "Epoch: 16, Loss: 0.209266\n",
      "Epoch: 17, Loss: 0.153772\n",
      "Epoch: 18, Loss: 0.104511\n",
      "Epoch: 19, Loss: 0.078554\n",
      "Epoch: 20, Loss: 0.149169\n",
      "Epoch: 21, Loss: 0.100369\n",
      "Epoch: 22, Loss: 0.358472\n",
      "Epoch: 23, Loss: 0.043414\n",
      "Epoch: 24, Loss: 0.107459\n",
      "Epoch: 25, Loss: 0.079796\n",
      "Epoch: 26, Loss: 0.017831\n",
      "Epoch: 27, Loss: 0.312643\n",
      "Epoch: 28, Loss: 0.048439\n",
      "Epoch: 29, Loss: 0.047229\n",
      "Epoch: 30, Loss: 0.060887\n",
      "Epoch: 31, Loss: 0.054336\n",
      "Epoch: 32, Loss: 0.037971\n",
      "Epoch: 33, Loss: 0.132314\n",
      "Epoch: 34, Loss: 0.065519\n",
      "Epoch: 35, Loss: 0.026809\n",
      "Epoch: 36, Loss: 0.072250\n",
      "Epoch: 37, Loss: 0.024997\n",
      "Epoch: 38, Loss: 0.055148\n",
      "Epoch: 39, Loss: 0.016088\n",
      "Epoch: 40, Loss: 0.034928\n",
      "Epoch: 41, Loss: 0.034584\n",
      "Epoch: 42, Loss: 0.021154\n",
      "Epoch: 43, Loss: 0.127316\n",
      "Epoch: 44, Loss: 0.032286\n",
      "Epoch: 45, Loss: 0.016321\n",
      "Epoch: 46, Loss: 0.037872\n",
      "Epoch: 47, Loss: 0.021484\n",
      "Epoch: 48, Loss: 0.020831\n",
      "Epoch: 49, Loss: 0.036287\n",
      "Epoch: 50, Loss: 0.005319\n",
      "Epoch: 51, Loss: 0.036403\n",
      "Epoch: 52, Loss: 0.003014\n",
      "Epoch: 53, Loss: 0.003483\n",
      "Epoch: 54, Loss: 0.014428\n",
      "Epoch: 55, Loss: 0.029294\n",
      "Epoch: 56, Loss: 0.033623\n",
      "Epoch: 57, Loss: 0.011985\n",
      "Epoch: 58, Loss: 0.010939\n",
      "Epoch: 59, Loss: 0.013702\n",
      "Epoch: 60, Loss: 0.006777\n",
      "Epoch: 61, Loss: 0.019952\n",
      "Epoch: 62, Loss: 0.020621\n",
      "Epoch: 63, Loss: 0.020880\n",
      "Epoch: 64, Loss: 0.004920\n",
      "Epoch: 65, Loss: 0.021706\n",
      "Epoch: 66, Loss: 0.021115\n",
      "Epoch: 67, Loss: 0.015569\n",
      "Epoch: 68, Loss: 0.022821\n",
      "Epoch: 69, Loss: 0.012258\n",
      "Epoch: 70, Loss: 0.012055\n",
      "Epoch: 71, Loss: 0.007578\n",
      "Epoch: 72, Loss: 0.005955\n",
      "Epoch: 73, Loss: 0.007186\n",
      "Epoch: 74, Loss: 0.014864\n",
      "Epoch: 75, Loss: 0.003739\n",
      "Epoch: 76, Loss: 0.011996\n",
      "Epoch: 77, Loss: 0.004451\n",
      "Epoch: 78, Loss: 0.007862\n",
      "Epoch: 79, Loss: 0.006303\n",
      "Epoch: 80, Loss: 0.007311\n",
      "Epoch: 81, Loss: 0.002161\n",
      "Epoch: 82, Loss: 0.007922\n",
      "Epoch: 83, Loss: 0.005238\n",
      "Epoch: 84, Loss: 0.006817\n",
      "Epoch: 85, Loss: 0.025589\n",
      "Epoch: 86, Loss: 0.002658\n",
      "Epoch: 87, Loss: 0.005697\n",
      "Epoch: 88, Loss: 0.007289\n",
      "Epoch: 89, Loss: 0.005817\n",
      "Epoch: 90, Loss: 0.009387\n",
      "Epoch: 91, Loss: 0.007354\n",
      "Epoch: 92, Loss: 0.003129\n",
      "Epoch: 93, Loss: 0.004735\n",
      "Epoch: 94, Loss: 0.001465\n",
      "Epoch: 95, Loss: 0.005402\n",
      "Epoch: 96, Loss: 0.003751\n",
      "Epoch: 97, Loss: 0.004706\n",
      "Epoch: 98, Loss: 0.004226\n",
      "Epoch: 99, Loss: 0.002932\n",
      "Epoch: 100, Loss: 0.007735\n",
      "Epoch: 101, Loss: 0.005418\n",
      "Epoch: 102, Loss: 0.006782\n",
      "Epoch: 103, Loss: 0.004115\n",
      "Epoch: 104, Loss: 0.001538\n",
      "Epoch: 105, Loss: 0.001467\n",
      "Epoch: 106, Loss: 0.001144\n",
      "Epoch: 107, Loss: 0.004166\n",
      "Epoch: 108, Loss: 0.004074\n",
      "Epoch: 109, Loss: 0.005304\n",
      "Epoch: 110, Loss: 0.002566\n",
      "Epoch: 111, Loss: 0.004963\n",
      "Epoch: 112, Loss: 0.003801\n",
      "Epoch: 113, Loss: 0.003731\n",
      "Epoch: 114, Loss: 0.001904\n",
      "Epoch: 115, Loss: 0.002794\n",
      "Epoch: 116, Loss: 0.004552\n",
      "Epoch: 117, Loss: 0.002521\n",
      "Epoch: 118, Loss: 0.005729\n",
      "Epoch: 119, Loss: 0.006961\n",
      "Epoch: 120, Loss: 0.003585\n",
      "Epoch: 121, Loss: 0.006280\n",
      "Epoch: 122, Loss: 0.010460\n",
      "Epoch: 123, Loss: 0.005351\n",
      "Epoch: 124, Loss: 0.004571\n",
      "Epoch: 125, Loss: 0.003431\n",
      "Epoch: 126, Loss: 0.006621\n",
      "Epoch: 127, Loss: 0.006014\n",
      "Epoch: 128, Loss: 0.003818\n",
      "Epoch: 129, Loss: 0.004041\n",
      "Epoch: 130, Loss: 0.000822\n",
      "Epoch: 131, Loss: 0.004055\n",
      "Epoch: 132, Loss: 0.002756\n",
      "Epoch: 133, Loss: 0.001440\n",
      "Epoch: 134, Loss: 0.002740\n",
      "Epoch: 135, Loss: 0.004322\n",
      "Epoch: 136, Loss: 0.002426\n",
      "Epoch: 137, Loss: 0.004788\n",
      "Epoch: 138, Loss: 0.001380\n",
      "Epoch: 139, Loss: 0.003375\n",
      "Epoch: 140, Loss: 0.004077\n",
      "Epoch: 141, Loss: 0.006334\n",
      "Epoch: 142, Loss: 0.003272\n",
      "Epoch: 143, Loss: 0.004970\n",
      "Epoch: 144, Loss: 0.005388\n",
      "Epoch: 145, Loss: 0.002443\n",
      "Epoch: 146, Loss: 0.001483\n",
      "Epoch: 147, Loss: 0.003198\n",
      "Epoch: 148, Loss: 0.001007\n",
      "Epoch: 149, Loss: 0.005570\n",
      "Epoch: 150, Loss: 0.003019\n",
      "Epoch: 151, Loss: 0.001211\n",
      "Epoch: 152, Loss: 0.003552\n",
      "Epoch: 153, Loss: 0.002700\n",
      "Epoch: 154, Loss: 0.003549\n",
      "Epoch: 155, Loss: 0.004171\n",
      "Epoch: 156, Loss: 0.002765\n",
      "Epoch: 157, Loss: 0.001169\n",
      "Epoch: 158, Loss: 0.002500\n",
      "Epoch: 159, Loss: 0.000579\n",
      "Epoch: 160, Loss: 0.002791\n",
      "Epoch: 161, Loss: 0.001865\n",
      "Epoch: 162, Loss: 0.002068\n",
      "Epoch: 163, Loss: 0.001169\n",
      "Epoch: 164, Loss: 0.001682\n",
      "Epoch: 165, Loss: 0.005407\n",
      "Epoch: 166, Loss: 0.002251\n",
      "Epoch: 167, Loss: 0.000437\n",
      "Epoch: 168, Loss: 0.003679\n",
      "Epoch: 169, Loss: 0.001928\n",
      "Epoch: 170, Loss: 0.001921\n",
      "Epoch: 171, Loss: 0.001692\n",
      "Epoch: 172, Loss: 0.002369\n",
      "Epoch: 173, Loss: 0.004309\n",
      "Epoch: 174, Loss: 0.000929\n",
      "Epoch: 175, Loss: 0.001715\n",
      "Epoch: 176, Loss: 0.002194\n",
      "Epoch: 177, Loss: 0.001467\n",
      "Epoch: 178, Loss: 0.001303\n",
      "Epoch: 179, Loss: 0.001990\n",
      "Epoch: 180, Loss: 0.001766\n",
      "Epoch: 181, Loss: 0.001683\n",
      "Epoch: 182, Loss: 0.001277\n",
      "Epoch: 183, Loss: 0.000490\n",
      "Epoch: 184, Loss: 0.001553\n",
      "Epoch: 185, Loss: 0.002142\n",
      "Epoch: 186, Loss: 0.001750\n",
      "Epoch: 187, Loss: 0.000521\n",
      "Epoch: 188, Loss: 0.001784\n",
      "Epoch: 189, Loss: 0.001466\n",
      "Epoch: 190, Loss: 0.001195\n",
      "Epoch: 191, Loss: 0.002362\n",
      "Epoch: 192, Loss: 0.000051\n",
      "Epoch: 193, Loss: 0.001108\n",
      "Epoch: 194, Loss: 0.001331\n",
      "Epoch: 195, Loss: 0.004118\n",
      "Epoch: 196, Loss: 0.000624\n",
      "Epoch: 197, Loss: 0.001875\n",
      "Epoch: 198, Loss: 0.001575\n",
      "Epoch: 199, Loss: 0.002367\n"
     ]
    }
   ],
   "source": [
    "\n",
    "import torch\n",
    "import torch.nn as nn\n",
    "import torch.optim as optim\n",
    "\n",
    "train_loader = torch.utils.data.DataLoader(cifar2, batch_size=64,\n",
    "                                           shuffle=True)\n",
    "\n",
    "model = nn.Sequential(\n",
    "            nn.Linear(3072, 512),\n",
    "            nn.Tanh(),\n",
    "            nn.Linear(512, 2),\n",
    "            nn.LogSoftmax(dim=1))\n",
    "\n",
    "learning_rate = 1e-2\n",
    "\n",
    "optimizer = optim.SGD(model.parameters(), lr=learning_rate)\n",
    "\n",
    "loss_fn = nn.NLLLoss()\n",
    "\n",
    "n_epochs = 200\n",
    "\n",
    "for epoch in range(n_epochs):\n",
    "    for imgs, labels in train_loader:\n",
    "        outputs = model(imgs.view(imgs.shape[0], -1))\n",
    "        loss = loss_fn(outputs, labels)\n",
    "\n",
    "        optimizer.zero_grad()\n",
    "        loss.backward()\n",
    "        optimizer.step()\n",
    "\n",
    "    print(\"Epoch: %d, Loss: %f\" % (epoch, float(loss)))"
   ]
  },
  {
   "cell_type": "code",
   "execution_count": 37,
   "metadata": {},
   "outputs": [
    {
     "name": "stdout",
     "output_type": "stream",
     "text": [
      "Accuracy: 1.000000\n"
     ]
    }
   ],
   "source": [
    "train_loader = torch.utils.data.DataLoader(cifar2, batch_size=64,\n",
    "                                           shuffle=False)\n",
    "\n",
    "correct = 0\n",
    "total = 0\n",
    "\n",
    "with torch.no_grad():\n",
    "    for imgs, labels in train_loader:\n",
    "        outputs = model(imgs.view(imgs.shape[0], -1))\n",
    "        _, predicted = torch.max(outputs, dim=1)\n",
    "        total += labels.shape[0]\n",
    "        correct += int((predicted == labels).sum())\n",
    "        \n",
    "print(\"Accuracy: %f\" % (correct / total))"
   ]
  },
  {
   "cell_type": "code",
   "execution_count": 38,
   "metadata": {},
   "outputs": [
    {
     "name": "stdout",
     "output_type": "stream",
     "text": [
      "Accuracy: 0.910000\n"
     ]
    }
   ],
   "source": [
    "val_loader = torch.utils.data.DataLoader(cifar2_val, batch_size=64,\n",
    "                                         shuffle=False)\n",
    "\n",
    "correct = 0\n",
    "total = 0\n",
    "\n",
    "with torch.no_grad():\n",
    "    for imgs, labels in val_loader:\n",
    "        outputs = model(imgs.view(imgs.shape[0], -1))\n",
    "        _, predicted = torch.max(outputs, dim=1)\n",
    "        total += labels.shape[0]\n",
    "        correct += int((predicted == labels).sum())\n",
    "        \n",
    "print(\"Accuracy: %f\" % (correct / total))"
   ]
  },
  {
   "cell_type": "code",
   "execution_count": 39,
   "metadata": {},
   "outputs": [],
   "source": [
    "model = nn.Sequential(\n",
    "            nn.Linear(3072, 1024),\n",
    "            nn.Tanh(),\n",
    "            nn.Linear(1024, 512),\n",
    "            nn.Tanh(),\n",
    "            nn.Linear(512, 128),\n",
    "            nn.Tanh(),\n",
    "            nn.Linear(128, 2),\n",
    "            nn.LogSoftmax(dim=1))"
   ]
  },
  {
   "cell_type": "code",
   "execution_count": 40,
   "metadata": {},
   "outputs": [],
   "source": [
    "model = nn.Sequential(\n",
    "            nn.Linear(3072, 1024),\n",
    "            nn.Tanh(),\n",
    "            nn.Linear(1024, 512),\n",
    "            nn.Tanh(),\n",
    "            nn.Linear(512, 128),\n",
    "            nn.Tanh(),\n",
    "            nn.Linear(128, 2))\n",
    "\n",
    "loss_fn = nn.CrossEntropyLoss()"
   ]
  },
  {
   "cell_type": "code",
   "execution_count": 41,
   "metadata": {},
   "outputs": [
    {
     "name": "stdout",
     "output_type": "stream",
     "text": [
      "Epoch: 0, Loss: 0.243899\n",
      "Epoch: 1, Loss: 0.322556\n",
      "Epoch: 2, Loss: 0.554614\n",
      "Epoch: 3, Loss: 0.205421\n",
      "Epoch: 4, Loss: 0.146262\n",
      "Epoch: 5, Loss: 0.204681\n",
      "Epoch: 6, Loss: 0.109278\n",
      "Epoch: 7, Loss: 0.166629\n",
      "Epoch: 8, Loss: 0.116716\n",
      "Epoch: 9, Loss: 0.520668\n",
      "Epoch: 10, Loss: 0.104574\n",
      "Epoch: 11, Loss: 0.095384\n",
      "Epoch: 12, Loss: 0.082692\n",
      "Epoch: 13, Loss: 0.129466\n",
      "Epoch: 14, Loss: 0.405595\n",
      "Epoch: 15, Loss: 0.040573\n",
      "Epoch: 16, Loss: 0.044479\n",
      "Epoch: 17, Loss: 0.064385\n",
      "Epoch: 18, Loss: 0.266587\n",
      "Epoch: 19, Loss: 0.606524\n",
      "Epoch: 20, Loss: 0.049630\n",
      "Epoch: 21, Loss: 0.228701\n",
      "Epoch: 22, Loss: 0.152616\n",
      "Epoch: 23, Loss: 0.023880\n",
      "Epoch: 24, Loss: 0.106237\n",
      "Epoch: 25, Loss: 0.019835\n",
      "Epoch: 26, Loss: 0.152911\n",
      "Epoch: 27, Loss: 0.226336\n",
      "Epoch: 28, Loss: 0.010262\n",
      "Epoch: 29, Loss: 0.105385\n",
      "Epoch: 30, Loss: 0.002569\n",
      "Epoch: 31, Loss: 0.123275\n",
      "Epoch: 32, Loss: 0.073301\n",
      "Epoch: 33, Loss: 0.015930\n",
      "Epoch: 34, Loss: 0.036814\n",
      "Epoch: 35, Loss: 0.010538\n",
      "Epoch: 36, Loss: 0.005881\n",
      "Epoch: 37, Loss: 0.008337\n",
      "Epoch: 38, Loss: 0.007918\n",
      "Epoch: 39, Loss: 0.002864\n",
      "Epoch: 40, Loss: 0.010769\n",
      "Epoch: 41, Loss: 0.001847\n",
      "Epoch: 42, Loss: 0.002846\n",
      "Epoch: 43, Loss: 0.010272\n",
      "Epoch: 44, Loss: 0.000321\n",
      "Epoch: 45, Loss: 0.008350\n",
      "Epoch: 46, Loss: 0.003287\n",
      "Epoch: 47, Loss: 0.001003\n",
      "Epoch: 48, Loss: 0.001740\n",
      "Epoch: 49, Loss: 0.001588\n",
      "Epoch: 50, Loss: 0.001019\n",
      "Epoch: 51, Loss: 0.000936\n",
      "Epoch: 52, Loss: 0.002202\n",
      "Epoch: 53, Loss: 0.000903\n",
      "Epoch: 54, Loss: 0.002344\n",
      "Epoch: 55, Loss: 0.000237\n",
      "Epoch: 56, Loss: 0.001876\n",
      "Epoch: 57, Loss: 0.000599\n",
      "Epoch: 58, Loss: 0.000510\n",
      "Epoch: 59, Loss: 0.000948\n",
      "Epoch: 60, Loss: 0.002147\n",
      "Epoch: 61, Loss: 0.001687\n",
      "Epoch: 62, Loss: 0.000559\n",
      "Epoch: 63, Loss: 0.001336\n",
      "Epoch: 64, Loss: 0.000693\n",
      "Epoch: 65, Loss: 0.000307\n",
      "Epoch: 66, Loss: 0.000849\n",
      "Epoch: 67, Loss: 0.001143\n",
      "Epoch: 68, Loss: 0.001368\n",
      "Epoch: 69, Loss: 0.000427\n",
      "Epoch: 70, Loss: 0.000327\n",
      "Epoch: 71, Loss: 0.001735\n",
      "Epoch: 72, Loss: 0.000408\n",
      "Epoch: 73, Loss: 0.000156\n",
      "Epoch: 74, Loss: 0.002070\n",
      "Epoch: 75, Loss: 0.000313\n",
      "Epoch: 76, Loss: 0.000993\n",
      "Epoch: 77, Loss: 0.000739\n",
      "Epoch: 78, Loss: 0.001148\n",
      "Epoch: 79, Loss: 0.000594\n",
      "Epoch: 80, Loss: 0.000423\n",
      "Epoch: 81, Loss: 0.000515\n",
      "Epoch: 82, Loss: 0.000406\n",
      "Epoch: 83, Loss: 0.000341\n",
      "Epoch: 84, Loss: 0.000481\n",
      "Epoch: 85, Loss: 0.000552\n",
      "Epoch: 86, Loss: 0.000613\n",
      "Epoch: 87, Loss: 0.000324\n",
      "Epoch: 88, Loss: 0.000387\n",
      "Epoch: 89, Loss: 0.000524\n",
      "Epoch: 90, Loss: 0.000837\n",
      "Epoch: 91, Loss: 0.000381\n",
      "Epoch: 92, Loss: 0.000243\n",
      "Epoch: 93, Loss: 0.000361\n",
      "Epoch: 94, Loss: 0.000673\n",
      "Epoch: 95, Loss: 0.000797\n",
      "Epoch: 96, Loss: 0.000157\n",
      "Epoch: 97, Loss: 0.000095\n",
      "Epoch: 98, Loss: 0.000020\n",
      "Epoch: 99, Loss: 0.000332\n",
      "Epoch: 100, Loss: 0.000101\n",
      "Epoch: 101, Loss: 0.000638\n",
      "Epoch: 102, Loss: 0.001223\n",
      "Epoch: 103, Loss: 0.000596\n",
      "Epoch: 104, Loss: 0.000358\n",
      "Epoch: 105, Loss: 0.000147\n",
      "Epoch: 106, Loss: 0.000312\n",
      "Epoch: 107, Loss: 0.000069\n",
      "Epoch: 108, Loss: 0.000247\n",
      "Epoch: 109, Loss: 0.000315\n",
      "Epoch: 110, Loss: 0.000581\n",
      "Epoch: 111, Loss: 0.000122\n",
      "Epoch: 112, Loss: 0.000215\n",
      "Epoch: 113, Loss: 0.000185\n",
      "Epoch: 114, Loss: 0.000122\n",
      "Epoch: 115, Loss: 0.000265\n",
      "Epoch: 116, Loss: 0.000275\n",
      "Epoch: 117, Loss: 0.000349\n",
      "Epoch: 118, Loss: 0.000450\n",
      "Epoch: 119, Loss: 0.000107\n",
      "Epoch: 120, Loss: 0.000456\n",
      "Epoch: 121, Loss: 0.000229\n",
      "Epoch: 122, Loss: 0.000483\n",
      "Epoch: 123, Loss: 0.000048\n",
      "Epoch: 124, Loss: 0.000552\n",
      "Epoch: 125, Loss: 0.000400\n",
      "Epoch: 126, Loss: 0.000231\n",
      "Epoch: 127, Loss: 0.000081\n",
      "Epoch: 128, Loss: 0.000233\n",
      "Epoch: 129, Loss: 0.000039\n",
      "Epoch: 130, Loss: 0.000218\n",
      "Epoch: 131, Loss: 0.000121\n",
      "Epoch: 132, Loss: 0.000171\n",
      "Epoch: 133, Loss: 0.000223\n",
      "Epoch: 134, Loss: 0.000270\n",
      "Epoch: 135, Loss: 0.000018\n",
      "Epoch: 136, Loss: 0.000130\n",
      "Epoch: 137, Loss: 0.000031\n",
      "Epoch: 138, Loss: 0.000175\n",
      "Epoch: 139, Loss: 0.000175\n",
      "Epoch: 140, Loss: 0.000065\n",
      "Epoch: 141, Loss: 0.000361\n",
      "Epoch: 142, Loss: 0.000120\n",
      "Epoch: 143, Loss: 0.000351\n",
      "Epoch: 144, Loss: 0.000186\n",
      "Epoch: 145, Loss: 0.000106\n",
      "Epoch: 146, Loss: 0.000152\n",
      "Epoch: 147, Loss: 0.000028\n",
      "Epoch: 148, Loss: 0.000135\n",
      "Epoch: 149, Loss: 0.000195\n",
      "Epoch: 150, Loss: 0.000493\n",
      "Epoch: 151, Loss: 0.000099\n",
      "Epoch: 152, Loss: 0.000036\n",
      "Epoch: 153, Loss: 0.000201\n",
      "Epoch: 154, Loss: 0.000291\n",
      "Epoch: 155, Loss: 0.000228\n",
      "Epoch: 156, Loss: 0.000288\n",
      "Epoch: 157, Loss: 0.000132\n",
      "Epoch: 158, Loss: 0.000193\n",
      "Epoch: 159, Loss: 0.000144\n",
      "Epoch: 160, Loss: 0.000216\n",
      "Epoch: 161, Loss: 0.000192\n",
      "Epoch: 162, Loss: 0.000352\n",
      "Epoch: 163, Loss: 0.000060\n",
      "Epoch: 164, Loss: 0.000035\n",
      "Epoch: 165, Loss: 0.000080\n",
      "Epoch: 166, Loss: 0.000088\n",
      "Epoch: 167, Loss: 0.000062\n",
      "Epoch: 168, Loss: 0.000093\n",
      "Epoch: 169, Loss: 0.000139\n",
      "Epoch: 170, Loss: 0.000183\n",
      "Epoch: 171, Loss: 0.000205\n",
      "Epoch: 172, Loss: 0.000122\n",
      "Epoch: 173, Loss: 0.000225\n",
      "Epoch: 174, Loss: 0.000071\n",
      "Epoch: 175, Loss: 0.000026\n",
      "Epoch: 176, Loss: 0.000132\n",
      "Epoch: 177, Loss: 0.000029\n",
      "Epoch: 178, Loss: 0.000524\n",
      "Epoch: 179, Loss: 0.000012\n",
      "Epoch: 180, Loss: 0.000209\n",
      "Epoch: 181, Loss: 0.000022\n",
      "Epoch: 182, Loss: 0.000165\n",
      "Epoch: 183, Loss: 0.000209\n",
      "Epoch: 184, Loss: 0.000070\n",
      "Epoch: 185, Loss: 0.000045\n",
      "Epoch: 186, Loss: 0.000132\n",
      "Epoch: 187, Loss: 0.000055\n",
      "Epoch: 188, Loss: 0.000080\n",
      "Epoch: 189, Loss: 0.000104\n",
      "Epoch: 190, Loss: 0.000092\n",
      "Epoch: 191, Loss: 0.000189\n",
      "Epoch: 192, Loss: 0.000174\n",
      "Epoch: 193, Loss: 0.000098\n",
      "Epoch: 194, Loss: 0.000199\n",
      "Epoch: 195, Loss: 0.000249\n",
      "Epoch: 196, Loss: 0.000254\n",
      "Epoch: 197, Loss: 0.000130\n",
      "Epoch: 198, Loss: 0.000158\n",
      "Epoch: 199, Loss: 0.000090\n"
     ]
    }
   ],
   "source": [
    "\n",
    "import torch\n",
    "import torch.nn as nn\n",
    "import torch.optim as optim\n",
    "\n",
    "train_loader = torch.utils.data.DataLoader(cifar2, batch_size=64,\n",
    "                                           shuffle=True)\n",
    "\n",
    "model = nn.Sequential(\n",
    "            nn.Linear(3072, 1024),\n",
    "            nn.Tanh(),\n",
    "            nn.Linear(1024, 512),\n",
    "            nn.Tanh(),\n",
    "            nn.Linear(512, 128),\n",
    "            nn.Tanh(),\n",
    "            nn.Linear(128, 2))\n",
    "\n",
    "learning_rate = 1e-2\n",
    "\n",
    "optimizer = optim.SGD(model.parameters(), lr=learning_rate)\n",
    "\n",
    "loss_fn = nn.CrossEntropyLoss()\n",
    "\n",
    "n_epochs = 200\n",
    "\n",
    "for epoch in range(n_epochs):\n",
    "    for imgs, labels in train_loader:\n",
    "        outputs = model(imgs.view(imgs.shape[0], -1))\n",
    "        loss = loss_fn(outputs, labels)\n",
    "\n",
    "        optimizer.zero_grad()\n",
    "        loss.backward()\n",
    "        optimizer.step()\n",
    "        \n",
    "\n",
    "    print(\"Epoch: %d, Loss: %f\" % (epoch, float(loss)))"
   ]
  },
  {
   "cell_type": "code",
   "execution_count": 42,
   "metadata": {},
   "outputs": [
    {
     "name": "stdout",
     "output_type": "stream",
     "text": [
      "Accuracy: 1.000000\n"
     ]
    }
   ],
   "source": [
    "train_loader = torch.utils.data.DataLoader(cifar2, batch_size=64,\n",
    "                                           shuffle=False)\n",
    "\n",
    "correct = 0\n",
    "total = 0\n",
    "\n",
    "with torch.no_grad():\n",
    "    for imgs, labels in train_loader:\n",
    "        outputs = model(imgs.view(imgs.shape[0], -1))\n",
    "        _, predicted = torch.max(outputs, dim=1)\n",
    "        total += labels.shape[0]\n",
    "        correct += int((predicted == labels).sum())\n",
    "        \n",
    "print(\"Accuracy: %f\" % (correct / total))"
   ]
  },
  {
   "cell_type": "code",
   "execution_count": 43,
   "metadata": {},
   "outputs": [
    {
     "name": "stdout",
     "output_type": "stream",
     "text": [
      "Accuracy: 0.903500\n"
     ]
    }
   ],
   "source": [
    "val_loader = torch.utils.data.DataLoader(cifar2_val, batch_size=64,\n",
    "                                         shuffle=False)\n",
    "\n",
    "correct = 0\n",
    "total = 0\n",
    "\n",
    "with torch.no_grad():\n",
    "    for imgs, labels in val_loader:\n",
    "        outputs = model(imgs.view(imgs.shape[0], -1))\n",
    "        _, predicted = torch.max(outputs, dim=1)\n",
    "        total += labels.shape[0]\n",
    "        correct += int((predicted == labels).sum())\n",
    "        \n",
    "print(\"Accuracy: %f\" % (correct / total))"
   ]
  },
  {
   "cell_type": "code",
   "execution_count": 44,
   "metadata": {},
   "outputs": [
    {
     "data": {
      "text/plain": [
       "3737474"
      ]
     },
     "execution_count": 44,
     "metadata": {},
     "output_type": "execute_result"
    }
   ],
   "source": [
    "sum([p.numel() for p in model.parameters()])"
   ]
  },
  {
   "cell_type": "code",
   "execution_count": 45,
   "metadata": {},
   "outputs": [
    {
     "data": {
      "text/plain": [
       "3737474"
      ]
     },
     "execution_count": 45,
     "metadata": {},
     "output_type": "execute_result"
    }
   ],
   "source": [
    "\n",
    "sum([p.numel() for p in model.parameters() if p.requires_grad == True])"
   ]
  },
  {
   "cell_type": "code",
   "execution_count": 46,
   "metadata": {},
   "outputs": [
    {
     "data": {
      "text/plain": [
       "1574402"
      ]
     },
     "execution_count": 46,
     "metadata": {},
     "output_type": "execute_result"
    }
   ],
   "source": [
    "first_model = nn.Sequential(\n",
    "                nn.Linear(3072, 512),\n",
    "                nn.Tanh(),\n",
    "                nn.Linear(512, 2),\n",
    "                nn.LogSoftmax(dim=1))\n",
    "\n",
    "sum([p.numel() for p in first_model.parameters()])"
   ]
  },
  {
   "cell_type": "code",
   "execution_count": 47,
   "metadata": {},
   "outputs": [
    {
     "data": {
      "text/plain": [
       "1573376"
      ]
     },
     "execution_count": 47,
     "metadata": {},
     "output_type": "execute_result"
    }
   ],
   "source": [
    "sum([p.numel() for p in nn.Linear(3072, 512).parameters()])\n"
   ]
  },
  {
   "cell_type": "code",
   "execution_count": 48,
   "metadata": {},
   "outputs": [
    {
     "data": {
      "text/plain": [
       "3146752"
      ]
     },
     "execution_count": 48,
     "metadata": {},
     "output_type": "execute_result"
    }
   ],
   "source": [
    "sum([p.numel() for p in nn.Linear(3072, 1024).parameters()])\n"
   ]
  },
  {
   "cell_type": "code",
   "execution_count": 49,
   "metadata": {},
   "outputs": [
    {
     "data": {
      "text/plain": [
       "(torch.Size([1024, 3072]), torch.Size([1024]))"
      ]
     },
     "execution_count": 49,
     "metadata": {},
     "output_type": "execute_result"
    }
   ],
   "source": [
    "linear = nn.Linear(3072, 1024)\n",
    "\n",
    "linear.weight.shape, linear.bias.shape\n"
   ]
  },
  {
   "cell_type": "code",
   "execution_count": 50,
   "metadata": {},
   "outputs": [],
   "source": [
    "conv = nn.Conv2d(3, 16, kernel_size=3)"
   ]
  },
  {
   "cell_type": "code",
   "execution_count": 51,
   "metadata": {},
   "outputs": [
    {
     "data": {
      "text/plain": [
       "torch.Size([16, 3, 3, 3])"
      ]
     },
     "execution_count": 51,
     "metadata": {},
     "output_type": "execute_result"
    }
   ],
   "source": [
    "conv.weight.shape"
   ]
  },
  {
   "cell_type": "code",
   "execution_count": 52,
   "metadata": {},
   "outputs": [],
   "source": [
    "img, _ = cifar2[0]\n",
    "\n",
    "output = conv(img.unsqueeze(0))"
   ]
  },
  {
   "cell_type": "code",
   "execution_count": 53,
   "metadata": {},
   "outputs": [
    {
     "data": {
      "text/plain": [
       "(torch.Size([1, 3, 32, 32]), torch.Size([1, 16, 30, 30]))"
      ]
     },
     "execution_count": 53,
     "metadata": {},
     "output_type": "execute_result"
    }
   ],
   "source": [
    "img.unsqueeze(0).shape, output.shape"
   ]
  },
  {
   "cell_type": "code",
   "execution_count": 54,
   "metadata": {},
   "outputs": [
    {
     "name": "stderr",
     "output_type": "stream",
     "text": [
      "Clipping input data to the valid range for imshow with RGB data ([0..1] for floats or [0..255] for integers).\n"
     ]
    },
    {
     "data": {
      "image/png": "[encoded data removed]",
      "text/plain": [
       "<Figure size 432x288 with 1 Axes>"
      ]
     },
     "metadata": {
      "needs_background": "light"
     },
     "output_type": "display_data"
    }
   ],
   "source": [
    "plt.imshow(img.permute(1, 2, 0), cmap='gray')\n",
    "plt.show()"
   ]
  },
  {
   "cell_type": "code",
   "execution_count": 55,
   "metadata": {},
   "outputs": [
    {
     "data": {
      "image/png": "[encoded data removed]",
      "text/plain": [
       "<Figure size 432x288 with 1 Axes>"
      ]
     },
     "metadata": {
      "needs_background": "light"
     },
     "output_type": "display_data"
    }
   ],
   "source": [
    "plt.imshow(output[0, 0].detach(), cmap='gray')\n",
    "plt.show()"
   ]
  },
  {
   "cell_type": "code",
   "execution_count": 56,
   "metadata": {},
   "outputs": [
    {
     "data": {
      "text/plain": [
       "torch.Size([1, 16, 30, 30])"
      ]
     },
     "execution_count": 56,
     "metadata": {},
     "output_type": "execute_result"
    }
   ],
   "source": [
    "output.shape"
   ]
  },
  {
   "cell_type": "code",
   "execution_count": 57,
   "metadata": {},
   "outputs": [],
   "source": [
    "conv = nn.Conv2d(3, 1, kernel_size=3, padding=1)"
   ]
  },
  {
   "cell_type": "code",
   "execution_count": 58,
   "metadata": {},
   "outputs": [
    {
     "data": {
      "text/plain": [
       "torch.Size([1, 1, 32, 32])"
      ]
     },
     "execution_count": 58,
     "metadata": {},
     "output_type": "execute_result"
    }
   ],
   "source": [
    "output = conv(img.unsqueeze(0))\n",
    "\n",
    "output.shape"
   ]
  },
  {
   "cell_type": "code",
   "execution_count": 59,
   "metadata": {},
   "outputs": [],
   "source": [
    "with torch.no_grad():\n",
    "    conv.bias.zero_()"
   ]
  },
  {
   "cell_type": "code",
   "execution_count": 60,
   "metadata": {},
   "outputs": [],
   "source": [
    "with torch.no_grad():\n",
    "    conv.weight.fill_(1.0 / 9.0)"
   ]
  },
  {
   "cell_type": "code",
   "execution_count": 61,
   "metadata": {},
   "outputs": [
    {
     "data": {
      "image/png": "[encoded data removed]",
      "text/plain": [
       "<Figure size 432x288 with 1 Axes>"
      ]
     },
     "metadata": {
      "needs_background": "light"
     },
     "output_type": "display_data"
    }
   ],
   "source": [
    "\n",
    "output = conv(img.unsqueeze(0))\n",
    "plt.imshow(output[0, 0].detach(), cmap='gray')\n",
    "plt.show()"
   ]
  },
  {
   "cell_type": "code",
   "execution_count": 62,
   "metadata": {},
   "outputs": [],
   "source": [
    "conv = nn.Conv2d(3, 1, kernel_size=3, padding=1)\n",
    "\n",
    "with torch.no_grad():\n",
    "    conv.weight[:] = torch.tensor([[-1.0, 0.0, 1.0],\n",
    "                                   [-1.0, 0.0, 1.0],\n",
    "                                   [-1.0, 0.0, 1.0]])\n",
    "    conv.bias.zero_()"
   ]
  },
  {
   "cell_type": "code",
   "execution_count": 63,
   "metadata": {},
   "outputs": [
    {
     "data": {
      "image/png": "[encoded data removed]",
      "text/plain": [
       "<Figure size 432x288 with 1 Axes>"
      ]
     },
     "metadata": {
      "needs_background": "light"
     },
     "output_type": "display_data"
    }
   ],
   "source": [
    "output = conv(img.unsqueeze(0))\n",
    "plt.imshow(output[0, 0].detach(), cmap='gray')\n",
    "plt.show()"
   ]
  },
  {
   "cell_type": "code",
   "execution_count": 64,
   "metadata": {},
   "outputs": [],
   "source": [
    "pool = nn.MaxPool2d(2)"
   ]
  },
  {
   "cell_type": "code",
   "execution_count": 65,
   "metadata": {},
   "outputs": [
    {
     "data": {
      "text/plain": [
       "torch.Size([1, 3, 16, 16])"
      ]
     },
     "execution_count": 65,
     "metadata": {},
     "output_type": "execute_result"
    }
   ],
   "source": [
    "output = pool(img.unsqueeze(0))\n",
    "\n",
    "output.shape"
   ]
  },
  {
   "cell_type": "code",
   "execution_count": null,
   "metadata": {},
   "outputs": [],
   "source": []
  },
  {
   "cell_type": "code",
   "execution_count": null,
   "metadata": {},
   "outputs": [],
   "source": []
  }
 ],
 "metadata": {
  "kernelspec": {
   "display_name": "Python 3",
   "language": "python",
   "name": "python3"
  },
  "language_info": {
   "codemirror_mode": {
    "name": "ipython",
    "version": 3
   },
   "file_extension": ".py",
   "mimetype": "text/x-python",
   "name": "python",
   "nbconvert_exporter": "python",
   "pygments_lexer": "ipython3",
   "version": "3.8.5"
  }
 },
 "nbformat": 4,
 "nbformat_minor": 4
}
