{
 "cells": [
  {
   "cell_type": "code",
   "execution_count": 1,
   "metadata": {},
   "outputs": [
    {
     "data": {
      "text/plain": [
       "<torch._C.Generator at 0x2b2d8b27350>"
      ]
     },
     "execution_count": 1,
     "metadata": {},
     "output_type": "execute_result"
    }
   ],
   "source": [
    "%matplotlib inline\n",
    "from matplotlib import pyplot as plt\n",
    "import numpy as np\n",
    "import torch\n",
    "\n",
    "torch.set_printoptions(edgeitems=2)\n",
    "torch.manual_seed(123)"
   ]
  },
  {
   "cell_type": "code",
   "execution_count": 2,
   "metadata": {},
   "outputs": [],
   "source": [
    "class_names = ['airplane','automobile','bird','cat','deer',\n",
    "               'dog','frog','horse','ship','truck']\n"
   ]
  },
  {
   "cell_type": "code",
   "execution_count": 3,
   "metadata": {},
   "outputs": [
    {
     "name": "stdout",
     "output_type": "stream",
     "text": [
      "Files already downloaded and verified\n"
     ]
    }
   ],
   "source": [
    "from torchvision import datasets, transforms\n",
    "cifar10 = datasets.CIFAR10(\n",
    "    'data', train=True, download=True,\n",
    "    transform=transforms.Compose([\n",
    "        transforms.ToTensor(),\n",
    "        transforms.Normalize((0.4915, 0.4823, 0.4468),\n",
    "                             (0.2470, 0.2435, 0.2616))\n",
    "    ]))\n"
   ]
  },
  {
   "cell_type": "code",
   "execution_count": 4,
   "metadata": {},
   "outputs": [],
   "source": [
    "cifar10_val = datasets.CIFAR10(\n",
    "    'data', train=False, download=False,\n",
    "    transform=transforms.Compose([\n",
    "        transforms.ToTensor(),\n",
    "        transforms.Normalize((0.4915, 0.4823, 0.4468),\n",
    "                             (0.2470, 0.2435, 0.2616))\n",
    "    ]))"
   ]
  },
  {
   "cell_type": "code",
   "execution_count": 5,
   "metadata": {},
   "outputs": [],
   "source": [
    "label_map = {6: 0, 9: 1}\n",
    "class_names = ['airplane', 'bird']\n",
    "cifar2 = [(img, label_map[label])\n",
    "          for img, label in cifar10 \n",
    "          if label in [6, 9]]\n",
    "cifar2_val = [(img, label_map[label])\n",
    "              for img, label in cifar10_val\n",
    "              if label in [6, 9]]"
   ]
  },
  {
   "cell_type": "code",
   "execution_count": 6,
   "metadata": {},
   "outputs": [],
   "source": [
    "import torch.nn as nn\n",
    "\n",
    "n_out = 2\n",
    "\n",
    "model = nn.Sequential(\n",
    "            nn.Linear(\n",
    "                3072,  # <1>\n",
    "                512,   # <2>\n",
    "            ),\n",
    "            nn.Tanh(),\n",
    "            nn.Linear(\n",
    "                512,   # <2>\n",
    "                n_out, # <3>\n",
    "            )\n",
    "        )"
   ]
  },
  {
   "cell_type": "code",
   "execution_count": 7,
   "metadata": {},
   "outputs": [],
   "source": [
    "def softmax(x):\n",
    "    return torch.exp(x) / torch.exp(x).sum()"
   ]
  },
  {
   "cell_type": "code",
   "execution_count": 8,
   "metadata": {},
   "outputs": [
    {
     "data": {
      "text/plain": [
       "tensor([0.0900, 0.2447, 0.6652])"
      ]
     },
     "execution_count": 8,
     "metadata": {},
     "output_type": "execute_result"
    }
   ],
   "source": [
    "x = torch.tensor([1.0, 2.0, 3.0])\n",
    "\n",
    "softmax(x)"
   ]
  },
  {
   "cell_type": "code",
   "execution_count": 9,
   "metadata": {},
   "outputs": [
    {
     "data": {
      "text/plain": [
       "tensor(1.)"
      ]
     },
     "execution_count": 9,
     "metadata": {},
     "output_type": "execute_result"
    }
   ],
   "source": [
    "softmax(x).sum()"
   ]
  },
  {
   "cell_type": "code",
   "execution_count": 10,
   "metadata": {},
   "outputs": [
    {
     "data": {
      "text/plain": [
       "tensor([[0.0900, 0.2447, 0.6652],\n",
       "        [0.0900, 0.2447, 0.6652]])"
      ]
     },
     "execution_count": 10,
     "metadata": {},
     "output_type": "execute_result"
    }
   ],
   "source": [
    "softmax = nn.Softmax(dim=1)\n",
    "\n",
    "x = torch.tensor([[1.0, 2.0, 3.0],\n",
    "                  [1.0, 2.0, 3.0]])\n",
    "\n",
    "softmax(x)"
   ]
  },
  {
   "cell_type": "code",
   "execution_count": 11,
   "metadata": {},
   "outputs": [],
   "source": [
    "model = nn.Sequential(\n",
    "            nn.Linear(3072, 512),\n",
    "            nn.Tanh(),\n",
    "            nn.Linear(512, 2),\n",
    "            nn.Softmax(dim=1))"
   ]
  },
  {
   "cell_type": "code",
   "execution_count": 12,
   "metadata": {},
   "outputs": [
    {
     "name": "stderr",
     "output_type": "stream",
     "text": [
      "Clipping input data to the valid range for imshow with RGB data ([0..1] for floats or [0..255] for integers).\n"
     ]
    },
    {
     "data": {
      "image/png": "[encoded data removed]",
      "text/plain": [
       "<Figure size 432x288 with 1 Axes>"
      ]
     },
     "metadata": {
      "needs_background": "light"
     },
     "output_type": "display_data"
    }
   ],
   "source": [
    "img, _ = cifar2[0]\n",
    "\n",
    "plt.imshow(img.permute(1, 2, 0))\n",
    "plt.show()"
   ]
  },
  {
   "cell_type": "code",
   "execution_count": 13,
   "metadata": {},
   "outputs": [],
   "source": [
    "img_batch = img.view(-1).unsqueeze(0)"
   ]
  },
  {
   "cell_type": "code",
   "execution_count": 14,
   "metadata": {},
   "outputs": [
    {
     "data": {
      "text/plain": [
       "tensor([[0.4813, 0.5187]], grad_fn=<SoftmaxBackward>)"
      ]
     },
     "execution_count": 14,
     "metadata": {},
     "output_type": "execute_result"
    }
   ],
   "source": [
    "out = model(img_batch)\n",
    "out"
   ]
  },
  {
   "cell_type": "code",
   "execution_count": 15,
   "metadata": {},
   "outputs": [
    {
     "data": {
      "text/plain": [
       "tensor([1])"
      ]
     },
     "execution_count": 15,
     "metadata": {},
     "output_type": "execute_result"
    }
   ],
   "source": [
    "\n",
    "_, index = torch.max(out, dim=1)\n",
    "\n",
    "index"
   ]
  },
  {
   "cell_type": "code",
   "execution_count": 16,
   "metadata": {},
   "outputs": [
    {
     "data": {
      "text/plain": [
       "tensor([[1., 0.],\n",
       "        [1., 0.],\n",
       "        [0., 1.],\n",
       "        [0., 1.]])"
      ]
     },
     "execution_count": 16,
     "metadata": {},
     "output_type": "execute_result"
    }
   ],
   "source": [
    "out = torch.tensor([\n",
    "    [0.6, 0.4],\n",
    "    [0.9, 0.1],\n",
    "    [0.3, 0.7],\n",
    "    [0.2, 0.8],\n",
    "])\n",
    "class_index = torch.tensor([0, 0, 1, 1]).unsqueeze(1)\n",
    "\n",
    "truth = torch.zeros((4,2))\n",
    "truth.scatter_(dim=1, index=class_index, value=1.0)\n",
    "truth"
   ]
  },
  {
   "cell_type": "code",
   "execution_count": 17,
   "metadata": {},
   "outputs": [
    {
     "data": {
      "text/plain": [
       "tensor(0.1500)"
      ]
     },
     "execution_count": 17,
     "metadata": {},
     "output_type": "execute_result"
    }
   ],
   "source": [
    "\n",
    "def mse(out):\n",
    "    return ((out - truth) ** 2).sum(dim=1).mean()\n",
    "mse(out)"
   ]
  },
  {
   "cell_type": "code",
   "execution_count": 18,
   "metadata": {},
   "outputs": [
    {
     "data": {
      "text/plain": [
       "tensor([[0.6000],\n",
       "        [0.9000],\n",
       "        [0.7000],\n",
       "        [0.8000]])"
      ]
     },
     "execution_count": 18,
     "metadata": {},
     "output_type": "execute_result"
    }
   ],
   "source": [
    "out.gather(dim=1, index=class_index)"
   ]
  },
  {
   "cell_type": "code",
   "execution_count": 19,
   "metadata": {},
   "outputs": [
    {
     "data": {
      "text/plain": [
       "tensor([0.3024])"
      ]
     },
     "execution_count": 19,
     "metadata": {},
     "output_type": "execute_result"
    }
   ],
   "source": [
    "def likelihood(out):\n",
    "    prod = 1.0\n",
    "    for x in out.gather(dim=1, index=class_index):\n",
    "        prod *= x\n",
    "    return prod\n",
    "\n",
    "likelihood(out)"
   ]
  },
  {
   "cell_type": "code",
   "execution_count": 20,
   "metadata": {},
   "outputs": [
    {
     "data": {
      "text/plain": [
       "tensor([1.1960])"
      ]
     },
     "execution_count": 20,
     "metadata": {},
     "output_type": "execute_result"
    }
   ],
   "source": [
    "def neg_log_likelihood(out):\n",
    "    return -likelihood(out).log()\n",
    "\n",
    "neg_log_likelihood(out)"
   ]
  },
  {
   "cell_type": "code",
   "execution_count": 21,
   "metadata": {},
   "outputs": [
    {
     "data": {
      "text/plain": [
       "tensor([0.0750, 0.1500, 0.2500, 0.4750])"
      ]
     },
     "execution_count": 21,
     "metadata": {},
     "output_type": "execute_result"
    }
   ],
   "source": [
    "\n",
    "out0 = out.clone().detach()\n",
    "out0[0] = torch.tensor([0.9, 0.1]) # more right\n",
    "\n",
    "out2 = out.clone().detach()\n",
    "out2[0] = torch.tensor([0.4, 0.6]) # slightly wrong\n",
    "\n",
    "out3 = out.clone().detach()\n",
    "out3[0] = torch.tensor([0.1, 0.9]) # very wrong\n",
    "\n",
    "mse_comparison = torch.tensor([mse(o) for o in [out0, out, out2, out3]])\n",
    "mse_comparison"
   ]
  },
  {
   "cell_type": "code",
   "execution_count": 22,
   "metadata": {},
   "outputs": [
    {
     "data": {
      "text/plain": [
       "tensor([-50.0000,   0.0000,  66.6667, 216.6667])"
      ]
     },
     "execution_count": 22,
     "metadata": {},
     "output_type": "execute_result"
    }
   ],
   "source": [
    "((mse_comparison / mse_comparison[1]) - 1) * 100"
   ]
  },
  {
   "cell_type": "code",
   "execution_count": 23,
   "metadata": {},
   "outputs": [
    {
     "data": {
      "text/plain": [
       "tensor([0.7905, 1.1960, 1.6015, 2.9878])"
      ]
     },
     "execution_count": 23,
     "metadata": {},
     "output_type": "execute_result"
    }
   ],
   "source": [
    "nll_comparison = torch.tensor([neg_log_likelihood(o) \n",
    "                               for o in [out0, out, out2, out3]])\n",
    "nll_comparison"
   ]
  },
  {
   "cell_type": "code",
   "execution_count": 24,
   "metadata": {},
   "outputs": [
    {
     "data": {
      "text/plain": [
       "tensor([-33.9016,   0.0000,  33.9016, 149.8121])"
      ]
     },
     "execution_count": 24,
     "metadata": {},
     "output_type": "execute_result"
    }
   ],
   "source": [
    "((nll_comparison / nll_comparison[1]) - 1) * 100"
   ]
  },
  {
   "cell_type": "code",
   "execution_count": 25,
   "metadata": {},
   "outputs": [
    {
     "data": {
      "text/plain": [
       "tensor([[0., 1.]])"
      ]
     },
     "execution_count": 25,
     "metadata": {},
     "output_type": "execute_result"
    }
   ],
   "source": [
    "\n",
    "softmax = nn.Softmax(dim=1)\n",
    "\n",
    "log_softmax = nn.LogSoftmax(dim=1)\n",
    "\n",
    "x = torch.tensor([[0.0, 104.0]])\n",
    "\n",
    "softmax(x)"
   ]
  },
  {
   "cell_type": "code",
   "execution_count": 26,
   "metadata": {},
   "outputs": [
    {
     "data": {
      "text/plain": [
       "tensor([[0., 1.]])"
      ]
     },
     "execution_count": 26,
     "metadata": {},
     "output_type": "execute_result"
    }
   ],
   "source": [
    "softmax = nn.Softmax(dim=1)\n",
    "\n",
    "log_softmax = nn.LogSoftmax(dim=1)\n",
    "\n",
    "x = torch.tensor([[0.0, 104.0]])\n",
    "\n",
    "softmax(x)"
   ]
  },
  {
   "cell_type": "code",
   "execution_count": 27,
   "metadata": {},
   "outputs": [
    {
     "data": {
      "text/plain": [
       "tensor([[-inf, 0.]])"
      ]
     },
     "execution_count": 27,
     "metadata": {},
     "output_type": "execute_result"
    }
   ],
   "source": [
    "torch.log(softmax(x))"
   ]
  },
  {
   "cell_type": "code",
   "execution_count": 28,
   "metadata": {},
   "outputs": [
    {
     "data": {
      "text/plain": [
       "tensor([[-104.,    0.]])"
      ]
     },
     "execution_count": 28,
     "metadata": {},
     "output_type": "execute_result"
    }
   ],
   "source": [
    "log_softmax(x)"
   ]
  },
  {
   "cell_type": "code",
   "execution_count": 29,
   "metadata": {},
   "outputs": [
    {
     "data": {
      "text/plain": [
       "tensor([[0., 1.]])"
      ]
     },
     "execution_count": 29,
     "metadata": {},
     "output_type": "execute_result"
    }
   ],
   "source": [
    "torch.exp(log_softmax(x))"
   ]
  },
  {
   "cell_type": "code",
   "execution_count": 30,
   "metadata": {},
   "outputs": [],
   "source": [
    "model = nn.Sequential(\n",
    "            nn.Linear(3072, 512),\n",
    "            nn.Tanh(),\n",
    "            nn.Linear(512, 2),\n",
    "            nn.LogSoftmax(dim=1))"
   ]
  },
  {
   "cell_type": "code",
   "execution_count": null,
   "metadata": {},
   "outputs": [],
   "source": []
  },
  {
   "cell_type": "code",
   "execution_count": 31,
   "metadata": {},
   "outputs": [],
   "source": [
    "loss = nn.NLLLoss()"
   ]
  },
  {
   "cell_type": "code",
   "execution_count": 32,
   "metadata": {},
   "outputs": [
    {
     "data": {
      "text/plain": [
       "tensor(0.8378, grad_fn=<NllLossBackward>)"
      ]
     },
     "execution_count": 32,
     "metadata": {},
     "output_type": "execute_result"
    }
   ],
   "source": [
    "img, label = cifar2[0]\n",
    "\n",
    "out = model(img.view(-1).unsqueeze(0))\n",
    "\n",
    "loss(out, torch.tensor([label]))"
   ]
  },
  {
   "cell_type": "code",
   "execution_count": 33,
   "metadata": {},
   "outputs": [
    {
     "name": "stdout",
     "output_type": "stream",
     "text": [
      "Epoch: 0, Loss: 0.400327\n",
      "Epoch: 1, Loss: 0.461530\n",
      "Epoch: 2, Loss: 0.642180\n",
      "Epoch: 3, Loss: 0.410566\n",
      "Epoch: 4, Loss: 0.416640\n",
      "Epoch: 5, Loss: 0.167704\n",
      "Epoch: 6, Loss: 0.238888\n",
      "Epoch: 7, Loss: 0.647980\n",
      "Epoch: 8, Loss: 0.221715\n",
      "Epoch: 9, Loss: 0.171479\n",
      "Epoch: 10, Loss: 0.378913\n",
      "Epoch: 11, Loss: 0.095032\n",
      "Epoch: 12, Loss: 0.114736\n",
      "Epoch: 13, Loss: 0.266033\n",
      "Epoch: 14, Loss: 0.158415\n",
      "Epoch: 15, Loss: 0.290912\n",
      "Epoch: 16, Loss: 0.267154\n",
      "Epoch: 17, Loss: 0.094569\n",
      "Epoch: 18, Loss: 0.118825\n",
      "Epoch: 19, Loss: 0.110213\n",
      "Epoch: 20, Loss: 0.184142\n",
      "Epoch: 21, Loss: 0.056833\n",
      "Epoch: 22, Loss: 0.036539\n",
      "Epoch: 23, Loss: 0.141849\n",
      "Epoch: 24, Loss: 0.035494\n",
      "Epoch: 25, Loss: 0.103927\n",
      "Epoch: 26, Loss: 0.054630\n",
      "Epoch: 27, Loss: 0.493240\n",
      "Epoch: 28, Loss: 0.055120\n",
      "Epoch: 29, Loss: 0.317547\n",
      "Epoch: 30, Loss: 0.024070\n",
      "Epoch: 31, Loss: 0.009094\n",
      "Epoch: 32, Loss: 0.064237\n",
      "Epoch: 33, Loss: 0.025756\n",
      "Epoch: 34, Loss: 0.075704\n",
      "Epoch: 35, Loss: 0.008090\n",
      "Epoch: 36, Loss: 0.005864\n",
      "Epoch: 37, Loss: 0.015821\n",
      "Epoch: 38, Loss: 0.020618\n",
      "Epoch: 39, Loss: 0.006528\n",
      "Epoch: 40, Loss: 0.006276\n",
      "Epoch: 41, Loss: 0.003145\n",
      "Epoch: 42, Loss: 0.001533\n",
      "Epoch: 43, Loss: 0.001577\n",
      "Epoch: 44, Loss: 0.001966\n",
      "Epoch: 45, Loss: 0.001581\n",
      "Epoch: 46, Loss: 0.003372\n",
      "Epoch: 47, Loss: 0.010891\n",
      "Epoch: 48, Loss: 0.001311\n",
      "Epoch: 49, Loss: 0.001766\n",
      "Epoch: 50, Loss: 0.002153\n",
      "Epoch: 51, Loss: 0.001376\n",
      "Epoch: 52, Loss: 0.002522\n",
      "Epoch: 53, Loss: 0.001438\n",
      "Epoch: 54, Loss: 0.001824\n",
      "Epoch: 55, Loss: 0.001415\n",
      "Epoch: 56, Loss: 0.000321\n",
      "Epoch: 57, Loss: 0.001795\n",
      "Epoch: 58, Loss: 0.000806\n",
      "Epoch: 59, Loss: 0.001590\n",
      "Epoch: 60, Loss: 0.000984\n",
      "Epoch: 61, Loss: 0.000809\n",
      "Epoch: 62, Loss: 0.002294\n",
      "Epoch: 63, Loss: 0.000177\n",
      "Epoch: 64, Loss: 0.000215\n",
      "Epoch: 65, Loss: 0.001145\n",
      "Epoch: 66, Loss: 0.001459\n",
      "Epoch: 67, Loss: 0.000995\n",
      "Epoch: 68, Loss: 0.000663\n",
      "Epoch: 69, Loss: 0.000902\n",
      "Epoch: 70, Loss: 0.001619\n",
      "Epoch: 71, Loss: 0.000263\n",
      "Epoch: 72, Loss: 0.000817\n",
      "Epoch: 73, Loss: 0.000983\n",
      "Epoch: 74, Loss: 0.001371\n",
      "Epoch: 75, Loss: 0.000185\n",
      "Epoch: 76, Loss: 0.000361\n",
      "Epoch: 77, Loss: 0.000680\n",
      "Epoch: 78, Loss: 0.000450\n",
      "Epoch: 79, Loss: 0.000739\n",
      "Epoch: 80, Loss: 0.000191\n",
      "Epoch: 81, Loss: 0.000824\n",
      "Epoch: 82, Loss: 0.000068\n",
      "Epoch: 83, Loss: 0.000396\n",
      "Epoch: 84, Loss: 0.000355\n",
      "Epoch: 85, Loss: 0.000614\n",
      "Epoch: 86, Loss: 0.000413\n",
      "Epoch: 87, Loss: 0.000874\n",
      "Epoch: 88, Loss: 0.000091\n",
      "Epoch: 89, Loss: 0.001192\n",
      "Epoch: 90, Loss: 0.000704\n",
      "Epoch: 91, Loss: 0.000807\n",
      "Epoch: 92, Loss: 0.000317\n",
      "Epoch: 93, Loss: 0.000110\n",
      "Epoch: 94, Loss: 0.000245\n",
      "Epoch: 95, Loss: 0.000482\n",
      "Epoch: 96, Loss: 0.000423\n",
      "Epoch: 97, Loss: 0.000611\n",
      "Epoch: 98, Loss: 0.000130\n",
      "Epoch: 99, Loss: 0.000285\n",
      "Epoch: 100, Loss: 0.000651\n",
      "Epoch: 101, Loss: 0.000255\n",
      "Epoch: 102, Loss: 0.000426\n",
      "Epoch: 103, Loss: 0.000074\n",
      "Epoch: 104, Loss: 0.000374\n",
      "Epoch: 105, Loss: 0.000148\n",
      "Epoch: 106, Loss: 0.000220\n",
      "Epoch: 107, Loss: 0.000350\n",
      "Epoch: 108, Loss: 0.000619\n",
      "Epoch: 109, Loss: 0.000343\n",
      "Epoch: 110, Loss: 0.000086\n",
      "Epoch: 111, Loss: 0.000457\n",
      "Epoch: 112, Loss: 0.000335\n",
      "Epoch: 113, Loss: 0.000177\n",
      "Epoch: 114, Loss: 0.000375\n",
      "Epoch: 115, Loss: 0.000231\n",
      "Epoch: 116, Loss: 0.000285\n",
      "Epoch: 117, Loss: 0.000548\n",
      "Epoch: 118, Loss: 0.000124\n",
      "Epoch: 119, Loss: 0.000226\n",
      "Epoch: 120, Loss: 0.000185\n",
      "Epoch: 121, Loss: 0.000125\n",
      "Epoch: 122, Loss: 0.000147\n",
      "Epoch: 123, Loss: 0.000319\n",
      "Epoch: 124, Loss: 0.000516\n",
      "Epoch: 125, Loss: 0.000293\n",
      "Epoch: 126, Loss: 0.000300\n",
      "Epoch: 127, Loss: 0.000196\n",
      "Epoch: 128, Loss: 0.000198\n",
      "Epoch: 129, Loss: 0.000289\n",
      "Epoch: 130, Loss: 0.000223\n",
      "Epoch: 131, Loss: 0.000282\n",
      "Epoch: 132, Loss: 0.000176\n",
      "Epoch: 133, Loss: 0.000304\n",
      "Epoch: 134, Loss: 0.000953\n",
      "Epoch: 135, Loss: 0.000129\n",
      "Epoch: 136, Loss: 0.000224\n",
      "Epoch: 137, Loss: 0.000237\n",
      "Epoch: 138, Loss: 0.000531\n",
      "Epoch: 139, Loss: 0.000329\n",
      "Epoch: 140, Loss: 0.000405\n",
      "Epoch: 141, Loss: 0.000053\n",
      "Epoch: 142, Loss: 0.000357\n",
      "Epoch: 143, Loss: 0.000230\n",
      "Epoch: 144, Loss: 0.000503\n",
      "Epoch: 145, Loss: 0.000282\n",
      "Epoch: 146, Loss: 0.000199\n",
      "Epoch: 147, Loss: 0.000563\n",
      "Epoch: 148, Loss: 0.000181\n",
      "Epoch: 149, Loss: 0.000356\n",
      "Epoch: 150, Loss: 0.000103\n",
      "Epoch: 151, Loss: 0.000284\n",
      "Epoch: 152, Loss: 0.000072\n",
      "Epoch: 153, Loss: 0.000161\n",
      "Epoch: 154, Loss: 0.000398\n",
      "Epoch: 155, Loss: 0.000059\n",
      "Epoch: 156, Loss: 0.000209\n",
      "Epoch: 157, Loss: 0.000375\n",
      "Epoch: 158, Loss: 0.000350\n",
      "Epoch: 159, Loss: 0.000054\n",
      "Epoch: 160, Loss: 0.000098\n",
      "Epoch: 161, Loss: 0.000133\n",
      "Epoch: 162, Loss: 0.000138\n",
      "Epoch: 163, Loss: 0.000074\n",
      "Epoch: 164, Loss: 0.000138\n",
      "Epoch: 165, Loss: 0.000076\n",
      "Epoch: 166, Loss: 0.000470\n",
      "Epoch: 167, Loss: 0.000335\n",
      "Epoch: 168, Loss: 0.000064\n",
      "Epoch: 169, Loss: 0.000053\n",
      "Epoch: 170, Loss: 0.000007\n",
      "Epoch: 171, Loss: 0.000179\n",
      "Epoch: 172, Loss: 0.000170\n",
      "Epoch: 173, Loss: 0.000057\n",
      "Epoch: 174, Loss: 0.000156\n",
      "Epoch: 175, Loss: 0.000172\n",
      "Epoch: 176, Loss: 0.000258\n",
      "Epoch: 177, Loss: 0.000431\n",
      "Epoch: 178, Loss: 0.000215\n",
      "Epoch: 179, Loss: 0.000350\n",
      "Epoch: 180, Loss: 0.000076\n",
      "Epoch: 181, Loss: 0.000226\n",
      "Epoch: 182, Loss: 0.000266\n",
      "Epoch: 183, Loss: 0.000221\n",
      "Epoch: 184, Loss: 0.000253\n",
      "Epoch: 185, Loss: 0.000183\n",
      "Epoch: 186, Loss: 0.000071\n",
      "Epoch: 187, Loss: 0.000305\n",
      "Epoch: 188, Loss: 0.000063\n",
      "Epoch: 189, Loss: 0.000081\n",
      "Epoch: 190, Loss: 0.000218\n",
      "Epoch: 191, Loss: 0.000235\n",
      "Epoch: 192, Loss: 0.000035\n",
      "Epoch: 193, Loss: 0.000066\n",
      "Epoch: 194, Loss: 0.000280\n",
      "Epoch: 195, Loss: 0.000206\n",
      "Epoch: 196, Loss: 0.000167\n",
      "Epoch: 197, Loss: 0.000098\n",
      "Epoch: 198, Loss: 0.000191\n",
      "Epoch: 199, Loss: 0.000154\n"
     ]
    }
   ],
   "source": [
    "import torch\n",
    "import torch.nn as nn\n",
    "import torch.optim as optim\n",
    "import time\n",
    "\n",
    "train_loader = torch.utils.data.DataLoader(cifar2, batch_size=64,\n",
    "                                           shuffle=True)\n",
    "\n",
    "model = nn.Sequential(\n",
    "            nn.Linear(3072, 1024),\n",
    "            nn.Tanh(),\n",
    "            nn.Linear(1024, 512),\n",
    "            nn.Tanh(),\n",
    "            nn.Linear(512, 128),\n",
    "            nn.Tanh(),\n",
    "            nn.Linear(128, 4))\n",
    "\n",
    "\n",
    "learning_rate = 1e-2\n",
    "\n",
    "optimizer = optim.SGD(model.parameters(), lr=learning_rate)\n",
    "\n",
    "loss_fn = nn.CrossEntropyLoss()\n",
    "\n",
    "n_epochs = 200\n",
    "\n",
    "for epoch in range(n_epochs):\n",
    "    for imgs, labels in train_loader:\n",
    "        \n",
    "        outputs = model(imgs.view(imgs.shape[0], -1))\n",
    "        loss = loss_fn(outputs, labels)\n",
    "                \n",
    "        optimizer.zero_grad()\n",
    "        loss.backward()\n",
    "        optimizer.step()\n",
    "       \n",
    "        \n",
    "    print(\"Epoch: %d, Loss: %f\" % (epoch, float(loss)))\n",
    "    "
   ]
  },
  {
   "cell_type": "code",
   "execution_count": 34,
   "metadata": {},
   "outputs": [],
   "source": [
    "train_loader = torch.utils.data.DataLoader(cifar2, batch_size=64,\n",
    "                                           shuffle=True)"
   ]
  },
  {
   "cell_type": "code",
   "execution_count": 35,
   "metadata": {},
   "outputs": [
    {
     "name": "stdout",
     "output_type": "stream",
     "text": [
      "Epoch: 0, Loss: 0.368761\n",
      "Epoch: 1, Loss: 0.381626\n",
      "Epoch: 2, Loss: 0.288068\n",
      "Epoch: 3, Loss: 0.245590\n",
      "Epoch: 4, Loss: 0.376817\n",
      "Epoch: 5, Loss: 0.225231\n",
      "Epoch: 6, Loss: 0.401470\n",
      "Epoch: 7, Loss: 0.190212\n",
      "Epoch: 8, Loss: 0.207922\n",
      "Epoch: 9, Loss: 0.181345\n",
      "Epoch: 10, Loss: 0.310868\n",
      "Epoch: 11, Loss: 0.219393\n",
      "Epoch: 12, Loss: 0.325493\n",
      "Epoch: 13, Loss: 0.272761\n",
      "Epoch: 14, Loss: 0.450768\n",
      "Epoch: 15, Loss: 0.050293\n",
      "Epoch: 16, Loss: 0.478552\n",
      "Epoch: 17, Loss: 0.135625\n",
      "Epoch: 18, Loss: 0.086764\n",
      "Epoch: 19, Loss: 0.071759\n",
      "Epoch: 20, Loss: 0.518384\n",
      "Epoch: 21, Loss: 0.120676\n",
      "Epoch: 22, Loss: 0.028885\n",
      "Epoch: 23, Loss: 0.102094\n",
      "Epoch: 24, Loss: 0.171425\n",
      "Epoch: 25, Loss: 0.135455\n",
      "Epoch: 26, Loss: 0.109467\n",
      "Epoch: 27, Loss: 0.158019\n",
      "Epoch: 28, Loss: 0.045880\n",
      "Epoch: 29, Loss: 0.073893\n",
      "Epoch: 30, Loss: 0.159011\n",
      "Epoch: 31, Loss: 0.054858\n",
      "Epoch: 32, Loss: 0.111287\n",
      "Epoch: 33, Loss: 0.096172\n",
      "Epoch: 34, Loss: 0.051037\n",
      "Epoch: 35, Loss: 0.128943\n",
      "Epoch: 36, Loss: 0.107753\n",
      "Epoch: 37, Loss: 0.003845\n",
      "Epoch: 38, Loss: 0.138643\n",
      "Epoch: 39, Loss: 0.115797\n",
      "Epoch: 40, Loss: 0.057937\n",
      "Epoch: 41, Loss: 0.092255\n",
      "Epoch: 42, Loss: 0.045559\n",
      "Epoch: 43, Loss: 0.036872\n",
      "Epoch: 44, Loss: 0.021557\n",
      "Epoch: 45, Loss: 0.026422\n",
      "Epoch: 46, Loss: 0.031804\n",
      "Epoch: 47, Loss: 0.016914\n",
      "Epoch: 48, Loss: 0.019682\n",
      "Epoch: 49, Loss: 0.005874\n",
      "Epoch: 50, Loss: 0.012886\n",
      "Epoch: 51, Loss: 0.014216\n",
      "Epoch: 52, Loss: 0.008150\n",
      "Epoch: 53, Loss: 0.007456\n",
      "Epoch: 54, Loss: 0.029813\n",
      "Epoch: 55, Loss: 0.011234\n",
      "Epoch: 56, Loss: 0.021743\n",
      "Epoch: 57, Loss: 0.081715\n",
      "Epoch: 58, Loss: 0.036180\n",
      "Epoch: 59, Loss: 0.038015\n",
      "Epoch: 60, Loss: 0.021935\n",
      "Epoch: 61, Loss: 0.023742\n",
      "Epoch: 62, Loss: 0.007745\n",
      "Epoch: 63, Loss: 0.023300\n",
      "Epoch: 64, Loss: 0.002239\n",
      "Epoch: 65, Loss: 0.008869\n",
      "Epoch: 66, Loss: 0.017078\n",
      "Epoch: 67, Loss: 0.038062\n",
      "Epoch: 68, Loss: 0.012820\n",
      "Epoch: 69, Loss: 0.010325\n",
      "Epoch: 70, Loss: 0.009988\n",
      "Epoch: 71, Loss: 0.005091\n",
      "Epoch: 72, Loss: 0.009804\n",
      "Epoch: 73, Loss: 0.008460\n",
      "Epoch: 74, Loss: 0.013209\n",
      "Epoch: 75, Loss: 0.004357\n",
      "Epoch: 76, Loss: 0.011447\n",
      "Epoch: 77, Loss: 0.015462\n",
      "Epoch: 78, Loss: 0.006325\n",
      "Epoch: 79, Loss: 0.013396\n",
      "Epoch: 80, Loss: 0.014875\n",
      "Epoch: 81, Loss: 0.011834\n",
      "Epoch: 82, Loss: 0.012004\n",
      "Epoch: 83, Loss: 0.008652\n",
      "Epoch: 84, Loss: 0.012595\n",
      "Epoch: 85, Loss: 0.002756\n",
      "Epoch: 86, Loss: 0.006875\n",
      "Epoch: 87, Loss: 0.003200\n",
      "Epoch: 88, Loss: 0.005868\n",
      "Epoch: 89, Loss: 0.002964\n",
      "Epoch: 90, Loss: 0.000958\n",
      "Epoch: 91, Loss: 0.007876\n",
      "Epoch: 92, Loss: 0.025686\n",
      "Epoch: 93, Loss: 0.007617\n",
      "Epoch: 94, Loss: 0.010180\n",
      "Epoch: 95, Loss: 0.006297\n",
      "Epoch: 96, Loss: 0.013454\n",
      "Epoch: 97, Loss: 0.002535\n",
      "Epoch: 98, Loss: 0.005039\n",
      "Epoch: 99, Loss: 0.007603\n",
      "Epoch: 100, Loss: 0.008184\n",
      "Epoch: 101, Loss: 0.003848\n",
      "Epoch: 102, Loss: 0.014742\n",
      "Epoch: 103, Loss: 0.010008\n",
      "Epoch: 104, Loss: 0.005840\n",
      "Epoch: 105, Loss: 0.009301\n",
      "Epoch: 106, Loss: 0.003468\n",
      "Epoch: 107, Loss: 0.004777\n",
      "Epoch: 108, Loss: 0.010192\n",
      "Epoch: 109, Loss: 0.005500\n",
      "Epoch: 110, Loss: 0.004945\n",
      "Epoch: 111, Loss: 0.006378\n",
      "Epoch: 112, Loss: 0.008872\n",
      "Epoch: 113, Loss: 0.012256\n",
      "Epoch: 114, Loss: 0.003112\n",
      "Epoch: 115, Loss: 0.006589\n",
      "Epoch: 116, Loss: 0.017593\n",
      "Epoch: 117, Loss: 0.004733\n",
      "Epoch: 118, Loss: 0.004411\n",
      "Epoch: 119, Loss: 0.003173\n",
      "Epoch: 120, Loss: 0.007732\n",
      "Epoch: 121, Loss: 0.005433\n",
      "Epoch: 122, Loss: 0.004755\n",
      "Epoch: 123, Loss: 0.002957\n",
      "Epoch: 124, Loss: 0.007812\n",
      "Epoch: 125, Loss: 0.006385\n",
      "Epoch: 126, Loss: 0.003176\n",
      "Epoch: 127, Loss: 0.003553\n",
      "Epoch: 128, Loss: 0.001322\n",
      "Epoch: 129, Loss: 0.002383\n",
      "Epoch: 130, Loss: 0.004515\n",
      "Epoch: 131, Loss: 0.003917\n",
      "Epoch: 132, Loss: 0.003431\n",
      "Epoch: 133, Loss: 0.005051\n",
      "Epoch: 134, Loss: 0.005610\n",
      "Epoch: 135, Loss: 0.002778\n",
      "Epoch: 136, Loss: 0.002463\n",
      "Epoch: 137, Loss: 0.003249\n",
      "Epoch: 138, Loss: 0.006431\n",
      "Epoch: 139, Loss: 0.004554\n",
      "Epoch: 140, Loss: 0.003688\n",
      "Epoch: 141, Loss: 0.003104\n",
      "Epoch: 142, Loss: 0.001509\n",
      "Epoch: 143, Loss: 0.005575\n",
      "Epoch: 144, Loss: 0.004375\n",
      "Epoch: 145, Loss: 0.004476\n",
      "Epoch: 146, Loss: 0.002716\n",
      "Epoch: 147, Loss: 0.003195\n",
      "Epoch: 148, Loss: 0.002619\n",
      "Epoch: 149, Loss: 0.004650\n",
      "Epoch: 150, Loss: 0.002432\n",
      "Epoch: 151, Loss: 0.003861\n",
      "Epoch: 152, Loss: 0.006723\n",
      "Epoch: 153, Loss: 0.002909\n",
      "Epoch: 154, Loss: 0.001056\n",
      "Epoch: 155, Loss: 0.001889\n",
      "Epoch: 156, Loss: 0.003833\n",
      "Epoch: 157, Loss: 0.005219\n",
      "Epoch: 158, Loss: 0.002422\n",
      "Epoch: 159, Loss: 0.001343\n",
      "Epoch: 160, Loss: 0.004660\n",
      "Epoch: 161, Loss: 0.000932\n",
      "Epoch: 162, Loss: 0.005857\n",
      "Epoch: 163, Loss: 0.001708\n",
      "Epoch: 164, Loss: 0.003640\n",
      "Epoch: 165, Loss: 0.001982\n",
      "Epoch: 166, Loss: 0.004070\n",
      "Epoch: 167, Loss: 0.001038\n",
      "Epoch: 168, Loss: 0.002963\n",
      "Epoch: 169, Loss: 0.003707\n",
      "Epoch: 170, Loss: 0.005016\n",
      "Epoch: 171, Loss: 0.003239\n",
      "Epoch: 172, Loss: 0.001945\n",
      "Epoch: 173, Loss: 0.003562\n",
      "Epoch: 174, Loss: 0.001968\n",
      "Epoch: 175, Loss: 0.003342\n",
      "Epoch: 176, Loss: 0.000749\n",
      "Epoch: 177, Loss: 0.002743\n",
      "Epoch: 178, Loss: 0.005561\n",
      "Epoch: 179, Loss: 0.000914\n",
      "Epoch: 180, Loss: 0.001304\n",
      "Epoch: 181, Loss: 0.002630\n",
      "Epoch: 182, Loss: 0.004236\n",
      "Epoch: 183, Loss: 0.001753\n",
      "Epoch: 184, Loss: 0.004086\n",
      "Epoch: 185, Loss: 0.003121\n",
      "Epoch: 186, Loss: 0.002061\n",
      "Epoch: 187, Loss: 0.001782\n",
      "Epoch: 188, Loss: 0.003384\n",
      "Epoch: 189, Loss: 0.001204\n",
      "Epoch: 190, Loss: 0.001076\n",
      "Epoch: 191, Loss: 0.001760\n",
      "Epoch: 192, Loss: 0.001302\n",
      "Epoch: 193, Loss: 0.003740\n",
      "Epoch: 194, Loss: 0.001485\n",
      "Epoch: 195, Loss: 0.005229\n",
      "Epoch: 196, Loss: 0.002260\n",
      "Epoch: 197, Loss: 0.003403\n",
      "Epoch: 198, Loss: 0.003450\n",
      "Epoch: 199, Loss: 0.001139\n"
     ]
    }
   ],
   "source": [
    "import torch\n",
    "import torch.nn as nn\n",
    "import torch.optim as optim\n",
    "\n",
    "train_loader = torch.utils.data.DataLoader(cifar2, batch_size=64,\n",
    "                                           shuffle=True)\n",
    "\n",
    "model = nn.Sequential(\n",
    "            nn.Linear(3072, 128),\n",
    "            nn.Tanh(),\n",
    "            nn.Linear(128,2),\n",
    "            nn.LogSoftmax(dim=1))\n",
    "\n",
    "learning_rate = 1e-2\n",
    "\n",
    "optimizer = optim.SGD(model.parameters(), lr=learning_rate)\n",
    "\n",
    "loss_fn = nn.NLLLoss()\n",
    "\n",
    "n_epochs = 200\n",
    "\n",
    "for epoch in range(n_epochs):\n",
    "    for imgs, labels in train_loader:\n",
    "        outputs = model(imgs.view(imgs.shape[0], -1))\n",
    "        loss = loss_fn(outputs, labels)\n",
    "\n",
    "        optimizer.zero_grad()\n",
    "        loss.backward()\n",
    "        optimizer.step()\n",
    "\n",
    "    print(\"Epoch: %d, Loss: %f\" % (epoch, float(loss)))"
   ]
  },
  {
   "cell_type": "code",
   "execution_count": 36,
   "metadata": {},
   "outputs": [
    {
     "name": "stdout",
     "output_type": "stream",
     "text": [
      "Epoch: 0, Loss: 0.373069\n",
      "Epoch: 1, Loss: 0.166418\n",
      "Epoch: 2, Loss: 0.197421\n",
      "Epoch: 3, Loss: 0.642438\n",
      "Epoch: 4, Loss: 0.337942\n",
      "Epoch: 5, Loss: 0.137410\n",
      "Epoch: 6, Loss: 0.483027\n",
      "Epoch: 7, Loss: 0.221184\n",
      "Epoch: 8, Loss: 0.115027\n",
      "Epoch: 9, Loss: 0.198484\n",
      "Epoch: 10, Loss: 0.140014\n",
      "Epoch: 11, Loss: 0.264466\n",
      "Epoch: 12, Loss: 0.161492\n",
      "Epoch: 13, Loss: 0.324507\n",
      "Epoch: 14, Loss: 0.147056\n",
      "Epoch: 15, Loss: 0.195492\n",
      "Epoch: 16, Loss: 0.213566\n",
      "Epoch: 17, Loss: 0.132362\n",
      "Epoch: 18, Loss: 0.159533\n",
      "Epoch: 19, Loss: 0.027183\n",
      "Epoch: 20, Loss: 0.070009\n",
      "Epoch: 21, Loss: 0.452781\n",
      "Epoch: 22, Loss: 0.174482\n",
      "Epoch: 23, Loss: 0.168471\n",
      "Epoch: 24, Loss: 0.046184\n",
      "Epoch: 25, Loss: 0.119205\n",
      "Epoch: 26, Loss: 0.055919\n",
      "Epoch: 27, Loss: 0.024558\n",
      "Epoch: 28, Loss: 0.031607\n",
      "Epoch: 29, Loss: 0.031600\n",
      "Epoch: 30, Loss: 0.157826\n",
      "Epoch: 31, Loss: 0.091920\n",
      "Epoch: 32, Loss: 0.042842\n",
      "Epoch: 33, Loss: 0.016054\n",
      "Epoch: 34, Loss: 0.047750\n",
      "Epoch: 35, Loss: 0.057164\n",
      "Epoch: 36, Loss: 0.105239\n",
      "Epoch: 37, Loss: 0.066102\n",
      "Epoch: 38, Loss: 0.152345\n",
      "Epoch: 39, Loss: 0.044697\n",
      "Epoch: 40, Loss: 0.026092\n",
      "Epoch: 41, Loss: 0.010900\n",
      "Epoch: 42, Loss: 0.037147\n",
      "Epoch: 43, Loss: 0.030690\n",
      "Epoch: 44, Loss: 0.055998\n",
      "Epoch: 45, Loss: 0.017044\n",
      "Epoch: 46, Loss: 0.059178\n",
      "Epoch: 47, Loss: 0.042602\n",
      "Epoch: 48, Loss: 0.012122\n",
      "Epoch: 49, Loss: 0.015017\n",
      "Epoch: 50, Loss: 0.029906\n",
      "Epoch: 51, Loss: 0.025702\n",
      "Epoch: 52, Loss: 0.040676\n",
      "Epoch: 53, Loss: 0.012002\n",
      "Epoch: 54, Loss: 0.019128\n",
      "Epoch: 55, Loss: 0.044762\n",
      "Epoch: 56, Loss: 0.043432\n",
      "Epoch: 57, Loss: 0.007580\n",
      "Epoch: 58, Loss: 0.018161\n",
      "Epoch: 59, Loss: 0.006239\n",
      "Epoch: 60, Loss: 0.006539\n",
      "Epoch: 61, Loss: 0.029230\n",
      "Epoch: 62, Loss: 0.188535\n",
      "Epoch: 63, Loss: 0.010372\n",
      "Epoch: 64, Loss: 0.009560\n",
      "Epoch: 65, Loss: 0.001849\n",
      "Epoch: 66, Loss: 0.023064\n",
      "Epoch: 67, Loss: 0.012883\n",
      "Epoch: 68, Loss: 0.009691\n",
      "Epoch: 69, Loss: 0.019506\n",
      "Epoch: 70, Loss: 0.002209\n",
      "Epoch: 71, Loss: 0.030031\n",
      "Epoch: 72, Loss: 0.008013\n",
      "Epoch: 73, Loss: 0.015552\n",
      "Epoch: 74, Loss: 0.004468\n",
      "Epoch: 75, Loss: 0.005156\n",
      "Epoch: 76, Loss: 0.014402\n",
      "Epoch: 77, Loss: 0.013984\n",
      "Epoch: 78, Loss: 0.009804\n",
      "Epoch: 79, Loss: 0.019296\n",
      "Epoch: 80, Loss: 0.011085\n",
      "Epoch: 81, Loss: 0.012457\n",
      "Epoch: 82, Loss: 0.012269\n",
      "Epoch: 83, Loss: 0.007359\n",
      "Epoch: 84, Loss: 0.010032\n",
      "Epoch: 85, Loss: 0.001828\n",
      "Epoch: 86, Loss: 0.007242\n",
      "Epoch: 87, Loss: 0.014606\n",
      "Epoch: 88, Loss: 0.004923\n",
      "Epoch: 89, Loss: 0.010406\n",
      "Epoch: 90, Loss: 0.000568\n",
      "Epoch: 91, Loss: 0.005155\n",
      "Epoch: 92, Loss: 0.002725\n",
      "Epoch: 93, Loss: 0.007875\n",
      "Epoch: 94, Loss: 0.003172\n",
      "Epoch: 95, Loss: 0.005262\n",
      "Epoch: 96, Loss: 0.000496\n",
      "Epoch: 97, Loss: 0.005440\n",
      "Epoch: 98, Loss: 0.005200\n",
      "Epoch: 99, Loss: 0.004640\n",
      "Epoch: 100, Loss: 0.005446\n",
      "Epoch: 101, Loss: 0.008966\n",
      "Epoch: 102, Loss: 0.004330\n",
      "Epoch: 103, Loss: 0.010299\n",
      "Epoch: 104, Loss: 0.002018\n",
      "Epoch: 105, Loss: 0.009560\n",
      "Epoch: 106, Loss: 0.010004\n",
      "Epoch: 107, Loss: 0.004166\n",
      "Epoch: 108, Loss: 0.003756\n",
      "Epoch: 109, Loss: 0.003885\n",
      "Epoch: 110, Loss: 0.002974\n",
      "Epoch: 111, Loss: 0.001166\n",
      "Epoch: 112, Loss: 0.005519\n",
      "Epoch: 113, Loss: 0.004131\n",
      "Epoch: 114, Loss: 0.002336\n",
      "Epoch: 115, Loss: 0.001734\n",
      "Epoch: 116, Loss: 0.003140\n",
      "Epoch: 117, Loss: 0.006388\n",
      "Epoch: 118, Loss: 0.001258\n",
      "Epoch: 119, Loss: 0.003127\n",
      "Epoch: 120, Loss: 0.002130\n",
      "Epoch: 121, Loss: 0.002547\n",
      "Epoch: 122, Loss: 0.005158\n",
      "Epoch: 123, Loss: 0.001055\n",
      "Epoch: 124, Loss: 0.004282\n",
      "Epoch: 125, Loss: 0.003758\n",
      "Epoch: 126, Loss: 0.006327\n",
      "Epoch: 127, Loss: 0.003949\n",
      "Epoch: 128, Loss: 0.000929\n",
      "Epoch: 129, Loss: 0.003523\n",
      "Epoch: 130, Loss: 0.001700\n",
      "Epoch: 131, Loss: 0.003918\n",
      "Epoch: 132, Loss: 0.002040\n",
      "Epoch: 133, Loss: 0.003208\n",
      "Epoch: 134, Loss: 0.002349\n",
      "Epoch: 135, Loss: 0.005344\n",
      "Epoch: 136, Loss: 0.002709\n",
      "Epoch: 137, Loss: 0.000677\n",
      "Epoch: 138, Loss: 0.000302\n",
      "Epoch: 139, Loss: 0.001408\n",
      "Epoch: 140, Loss: 0.005930\n",
      "Epoch: 141, Loss: 0.002449\n",
      "Epoch: 142, Loss: 0.002777\n",
      "Epoch: 143, Loss: 0.002556\n",
      "Epoch: 144, Loss: 0.002161\n",
      "Epoch: 145, Loss: 0.003214\n",
      "Epoch: 146, Loss: 0.002969\n",
      "Epoch: 147, Loss: 0.001143\n",
      "Epoch: 148, Loss: 0.001131\n",
      "Epoch: 149, Loss: 0.001913\n",
      "Epoch: 150, Loss: 0.002888\n",
      "Epoch: 151, Loss: 0.000387\n",
      "Epoch: 152, Loss: 0.001885\n",
      "Epoch: 153, Loss: 0.001593\n",
      "Epoch: 154, Loss: 0.001422\n",
      "Epoch: 155, Loss: 0.000912\n",
      "Epoch: 156, Loss: 0.002591\n",
      "Epoch: 157, Loss: 0.002034\n",
      "Epoch: 158, Loss: 0.000962\n",
      "Epoch: 159, Loss: 0.001220\n",
      "Epoch: 160, Loss: 0.001880\n",
      "Epoch: 161, Loss: 0.001496\n",
      "Epoch: 162, Loss: 0.002070\n",
      "Epoch: 163, Loss: 0.001597\n",
      "Epoch: 164, Loss: 0.002998\n",
      "Epoch: 165, Loss: 0.001762\n",
      "Epoch: 166, Loss: 0.002099\n",
      "Epoch: 167, Loss: 0.000298\n",
      "Epoch: 168, Loss: 0.002958\n",
      "Epoch: 169, Loss: 0.003632\n",
      "Epoch: 170, Loss: 0.000786\n",
      "Epoch: 171, Loss: 0.001505\n",
      "Epoch: 172, Loss: 0.004560\n",
      "Epoch: 173, Loss: 0.000834\n",
      "Epoch: 174, Loss: 0.001607\n",
      "Epoch: 175, Loss: 0.001361\n",
      "Epoch: 176, Loss: 0.001741\n",
      "Epoch: 177, Loss: 0.003463\n",
      "Epoch: 178, Loss: 0.006117\n",
      "Epoch: 179, Loss: 0.002604\n",
      "Epoch: 180, Loss: 0.002190\n",
      "Epoch: 181, Loss: 0.000775\n",
      "Epoch: 182, Loss: 0.001224\n",
      "Epoch: 183, Loss: 0.000950\n",
      "Epoch: 184, Loss: 0.001491\n",
      "Epoch: 185, Loss: 0.000971\n",
      "Epoch: 186, Loss: 0.001513\n",
      "Epoch: 187, Loss: 0.004173\n",
      "Epoch: 188, Loss: 0.001363\n",
      "Epoch: 189, Loss: 0.001346\n",
      "Epoch: 190, Loss: 0.002201\n",
      "Epoch: 191, Loss: 0.001448\n",
      "Epoch: 192, Loss: 0.003560\n",
      "Epoch: 193, Loss: 0.001355\n",
      "Epoch: 194, Loss: 0.001016\n",
      "Epoch: 195, Loss: 0.003643\n",
      "Epoch: 196, Loss: 0.004254\n",
      "Epoch: 197, Loss: 0.001453\n",
      "Epoch: 198, Loss: 0.001940\n",
      "Epoch: 199, Loss: 0.005221\n"
     ]
    }
   ],
   "source": [
    "\n",
    "import torch\n",
    "import torch.nn as nn\n",
    "import torch.optim as optim\n",
    "\n",
    "train_loader = torch.utils.data.DataLoader(cifar2, batch_size=64,\n",
    "                                           shuffle=True)\n",
    "\n",
    "model = nn.Sequential(\n",
    "            nn.Linear(3072, 512),\n",
    "            nn.Tanh(),\n",
    "            nn.Linear(512, 2),\n",
    "            nn.LogSoftmax(dim=1))\n",
    "\n",
    "learning_rate = 1e-2\n",
    "\n",
    "optimizer = optim.SGD(model.parameters(), lr=learning_rate)\n",
    "\n",
    "loss_fn = nn.NLLLoss()\n",
    "\n",
    "n_epochs = 200\n",
    "\n",
    "for epoch in range(n_epochs):\n",
    "    for imgs, labels in train_loader:\n",
    "        outputs = model(imgs.view(imgs.shape[0], -1))\n",
    "        loss = loss_fn(outputs, labels)\n",
    "\n",
    "        optimizer.zero_grad()\n",
    "        loss.backward()\n",
    "        optimizer.step()\n",
    "\n",
    "    print(\"Epoch: %d, Loss: %f\" % (epoch, float(loss)))"
   ]
  },
  {
   "cell_type": "code",
   "execution_count": 37,
   "metadata": {},
   "outputs": [
    {
     "name": "stdout",
     "output_type": "stream",
     "text": [
      "Accuracy: 1.000000\n"
     ]
    }
   ],
   "source": [
    "train_loader = torch.utils.data.DataLoader(cifar2, batch_size=64,\n",
    "                                           shuffle=False)\n",
    "\n",
    "correct = 0\n",
    "total = 0\n",
    "\n",
    "with torch.no_grad():\n",
    "    for imgs, labels in train_loader:\n",
    "        outputs = model(imgs.view(imgs.shape[0], -1))\n",
    "        _, predicted = torch.max(outputs, dim=1)\n",
    "        total += labels.shape[0]\n",
    "        correct += int((predicted == labels).sum())\n",
    "        \n",
    "print(\"Accuracy: %f\" % (correct / total))"
   ]
  },
  {
   "cell_type": "code",
   "execution_count": 38,
   "metadata": {},
   "outputs": [
    {
     "name": "stdout",
     "output_type": "stream",
     "text": [
      "Accuracy: 0.909000\n"
     ]
    }
   ],
   "source": [
    "val_loader = torch.utils.data.DataLoader(cifar2_val, batch_size=64,\n",
    "                                         shuffle=False)\n",
    "\n",
    "correct = 0\n",
    "total = 0\n",
    "\n",
    "with torch.no_grad():\n",
    "    for imgs, labels in val_loader:\n",
    "        outputs = model(imgs.view(imgs.shape[0], -1))\n",
    "        _, predicted = torch.max(outputs, dim=1)\n",
    "        total += labels.shape[0]\n",
    "        correct += int((predicted == labels).sum())\n",
    "        \n",
    "print(\"Accuracy: %f\" % (correct / total))"
   ]
  },
  {
   "cell_type": "code",
   "execution_count": 39,
   "metadata": {},
   "outputs": [],
   "source": [
    "model = nn.Sequential(\n",
    "            nn.Linear(3072, 1024),\n",
    "            nn.Tanh(),\n",
    "            nn.Linear(1024, 512),\n",
    "            nn.Tanh(),\n",
    "            nn.Linear(512, 128),\n",
    "            nn.Tanh(),\n",
    "            nn.Linear(128, 2),\n",
    "            nn.LogSoftmax(dim=1))"
   ]
  },
  {
   "cell_type": "code",
   "execution_count": 40,
   "metadata": {},
   "outputs": [],
   "source": [
    "model = nn.Sequential(\n",
    "            nn.Linear(3072, 1024),\n",
    "            nn.Tanh(),\n",
    "            nn.Linear(1024, 512),\n",
    "            nn.Tanh(),\n",
    "            nn.Linear(512, 128),\n",
    "            nn.Tanh(),\n",
    "            nn.Linear(128, 2))\n",
    "\n",
    "loss_fn = nn.CrossEntropyLoss()"
   ]
  },
  {
   "cell_type": "code",
   "execution_count": 41,
   "metadata": {},
   "outputs": [
    {
     "name": "stdout",
     "output_type": "stream",
     "text": [
      "Epoch: 0, Loss: 0.360217\n",
      "Epoch: 1, Loss: 0.266187\n",
      "Epoch: 2, Loss: 0.318916\n",
      "Epoch: 3, Loss: 0.292144\n",
      "Epoch: 4, Loss: 0.416398\n",
      "Epoch: 5, Loss: 0.457274\n",
      "Epoch: 6, Loss: 0.325143\n",
      "Epoch: 7, Loss: 0.236160\n",
      "Epoch: 8, Loss: 0.490679\n",
      "Epoch: 9, Loss: 0.105176\n",
      "Epoch: 10, Loss: 0.134716\n",
      "Epoch: 11, Loss: 0.342841\n",
      "Epoch: 12, Loss: 0.119218\n",
      "Epoch: 13, Loss: 0.173417\n",
      "Epoch: 14, Loss: 0.134078\n",
      "Epoch: 15, Loss: 0.256975\n",
      "Epoch: 16, Loss: 0.189694\n",
      "Epoch: 17, Loss: 0.155574\n",
      "Epoch: 18, Loss: 0.146738\n",
      "Epoch: 19, Loss: 0.075832\n",
      "Epoch: 20, Loss: 0.032313\n",
      "Epoch: 21, Loss: 0.034739\n",
      "Epoch: 22, Loss: 0.081099\n",
      "Epoch: 23, Loss: 0.071872\n",
      "Epoch: 24, Loss: 0.066574\n",
      "Epoch: 25, Loss: 0.136826\n",
      "Epoch: 26, Loss: 0.020626\n",
      "Epoch: 27, Loss: 0.208025\n",
      "Epoch: 28, Loss: 0.063596\n",
      "Epoch: 29, Loss: 0.007813\n",
      "Epoch: 30, Loss: 0.122549\n",
      "Epoch: 31, Loss: 0.182502\n",
      "Epoch: 32, Loss: 0.008334\n",
      "Epoch: 33, Loss: 0.003485\n",
      "Epoch: 34, Loss: 0.003054\n",
      "Epoch: 35, Loss: 0.033344\n",
      "Epoch: 36, Loss: 0.008853\n",
      "Epoch: 37, Loss: 0.005488\n",
      "Epoch: 38, Loss: 0.003572\n",
      "Epoch: 39, Loss: 0.005039\n",
      "Epoch: 40, Loss: 0.002010\n",
      "Epoch: 41, Loss: 0.001015\n",
      "Epoch: 42, Loss: 0.001589\n",
      "Epoch: 43, Loss: 0.000677\n",
      "Epoch: 44, Loss: 0.002658\n",
      "Epoch: 45, Loss: 0.003521\n",
      "Epoch: 46, Loss: 0.000128\n",
      "Epoch: 47, Loss: 0.001985\n",
      "Epoch: 48, Loss: 0.018194\n",
      "Epoch: 49, Loss: 0.000281\n",
      "Epoch: 50, Loss: 0.004338\n",
      "Epoch: 51, Loss: 0.002326\n",
      "Epoch: 52, Loss: 0.000150\n",
      "Epoch: 53, Loss: 0.002020\n",
      "Epoch: 54, Loss: 0.001304\n",
      "Epoch: 55, Loss: 0.002751\n",
      "Epoch: 56, Loss: 0.001693\n",
      "Epoch: 57, Loss: 0.001801\n",
      "Epoch: 58, Loss: 0.000268\n",
      "Epoch: 59, Loss: 0.000782\n",
      "Epoch: 60, Loss: 0.000309\n",
      "Epoch: 61, Loss: 0.000768\n",
      "Epoch: 62, Loss: 0.000870\n",
      "Epoch: 63, Loss: 0.000697\n",
      "Epoch: 64, Loss: 0.000714\n",
      "Epoch: 65, Loss: 0.000768\n",
      "Epoch: 66, Loss: 0.000857\n",
      "Epoch: 67, Loss: 0.000369\n",
      "Epoch: 68, Loss: 0.000220\n",
      "Epoch: 69, Loss: 0.000168\n",
      "Epoch: 70, Loss: 0.000125\n",
      "Epoch: 71, Loss: 0.000760\n",
      "Epoch: 72, Loss: 0.001524\n",
      "Epoch: 73, Loss: 0.000674\n",
      "Epoch: 74, Loss: 0.000529\n",
      "Epoch: 75, Loss: 0.000595\n",
      "Epoch: 76, Loss: 0.000260\n",
      "Epoch: 77, Loss: 0.000349\n",
      "Epoch: 78, Loss: 0.000086\n",
      "Epoch: 79, Loss: 0.000865\n",
      "Epoch: 80, Loss: 0.000801\n",
      "Epoch: 81, Loss: 0.000357\n",
      "Epoch: 82, Loss: 0.000495\n",
      "Epoch: 83, Loss: 0.000548\n",
      "Epoch: 84, Loss: 0.000081\n",
      "Epoch: 85, Loss: 0.000217\n",
      "Epoch: 86, Loss: 0.000212\n",
      "Epoch: 87, Loss: 0.000668\n",
      "Epoch: 88, Loss: 0.000191\n",
      "Epoch: 89, Loss: 0.000157\n",
      "Epoch: 90, Loss: 0.000588\n",
      "Epoch: 91, Loss: 0.001088\n",
      "Epoch: 92, Loss: 0.000020\n",
      "Epoch: 93, Loss: 0.000116\n",
      "Epoch: 94, Loss: 0.000165\n",
      "Epoch: 95, Loss: 0.000824\n",
      "Epoch: 96, Loss: 0.000420\n",
      "Epoch: 97, Loss: 0.000478\n",
      "Epoch: 98, Loss: 0.000426\n",
      "Epoch: 99, Loss: 0.000213\n",
      "Epoch: 100, Loss: 0.000161\n",
      "Epoch: 101, Loss: 0.000944\n",
      "Epoch: 102, Loss: 0.000013\n",
      "Epoch: 103, Loss: 0.000402\n",
      "Epoch: 104, Loss: 0.000407\n",
      "Epoch: 105, Loss: 0.000222\n",
      "Epoch: 106, Loss: 0.000218\n",
      "Epoch: 107, Loss: 0.000435\n",
      "Epoch: 108, Loss: 0.000296\n",
      "Epoch: 109, Loss: 0.000250\n",
      "Epoch: 110, Loss: 0.000208\n",
      "Epoch: 111, Loss: 0.000032\n",
      "Epoch: 112, Loss: 0.000219\n",
      "Epoch: 113, Loss: 0.000259\n",
      "Epoch: 114, Loss: 0.000051\n",
      "Epoch: 115, Loss: 0.000241\n",
      "Epoch: 116, Loss: 0.000719\n",
      "Epoch: 117, Loss: 0.000173\n",
      "Epoch: 118, Loss: 0.000062\n",
      "Epoch: 119, Loss: 0.000528\n",
      "Epoch: 120, Loss: 0.000174\n",
      "Epoch: 121, Loss: 0.000304\n",
      "Epoch: 122, Loss: 0.000190\n",
      "Epoch: 123, Loss: 0.000306\n",
      "Epoch: 124, Loss: 0.000129\n",
      "Epoch: 125, Loss: 0.000409\n",
      "Epoch: 126, Loss: 0.000294\n",
      "Epoch: 127, Loss: 0.000346\n",
      "Epoch: 128, Loss: 0.000168\n",
      "Epoch: 129, Loss: 0.000305\n",
      "Epoch: 130, Loss: 0.000083\n",
      "Epoch: 131, Loss: 0.000054\n",
      "Epoch: 132, Loss: 0.000121\n",
      "Epoch: 133, Loss: 0.000156\n",
      "Epoch: 134, Loss: 0.000181\n",
      "Epoch: 135, Loss: 0.000119\n",
      "Epoch: 136, Loss: 0.000223\n",
      "Epoch: 137, Loss: 0.000192\n",
      "Epoch: 138, Loss: 0.000258\n",
      "Epoch: 139, Loss: 0.000218\n",
      "Epoch: 140, Loss: 0.000064\n",
      "Epoch: 141, Loss: 0.000090\n",
      "Epoch: 142, Loss: 0.000231\n",
      "Epoch: 143, Loss: 0.000142\n",
      "Epoch: 144, Loss: 0.000053\n",
      "Epoch: 145, Loss: 0.000151\n",
      "Epoch: 146, Loss: 0.000064\n",
      "Epoch: 147, Loss: 0.000046\n",
      "Epoch: 148, Loss: 0.000294\n",
      "Epoch: 149, Loss: 0.000118\n",
      "Epoch: 150, Loss: 0.000446\n",
      "Epoch: 151, Loss: 0.000070\n",
      "Epoch: 152, Loss: 0.000264\n",
      "Epoch: 153, Loss: 0.000143\n",
      "Epoch: 154, Loss: 0.000142\n",
      "Epoch: 155, Loss: 0.000189\n",
      "Epoch: 156, Loss: 0.000140\n",
      "Epoch: 157, Loss: 0.000150\n",
      "Epoch: 158, Loss: 0.000124\n",
      "Epoch: 159, Loss: 0.000182\n",
      "Epoch: 160, Loss: 0.000054\n",
      "Epoch: 161, Loss: 0.000077\n",
      "Epoch: 162, Loss: 0.000187\n",
      "Epoch: 163, Loss: 0.000107\n",
      "Epoch: 164, Loss: 0.000094\n",
      "Epoch: 165, Loss: 0.000061\n",
      "Epoch: 166, Loss: 0.000116\n",
      "Epoch: 167, Loss: 0.000290\n",
      "Epoch: 168, Loss: 0.000179\n",
      "Epoch: 169, Loss: 0.000146\n",
      "Epoch: 170, Loss: 0.000116\n",
      "Epoch: 171, Loss: 0.000162\n",
      "Epoch: 172, Loss: 0.000092\n",
      "Epoch: 173, Loss: 0.000103\n",
      "Epoch: 174, Loss: 0.000257\n",
      "Epoch: 175, Loss: 0.000224\n",
      "Epoch: 176, Loss: 0.000100\n",
      "Epoch: 177, Loss: 0.000204\n",
      "Epoch: 178, Loss: 0.000025\n",
      "Epoch: 179, Loss: 0.000159\n",
      "Epoch: 180, Loss: 0.000097\n",
      "Epoch: 181, Loss: 0.000142\n",
      "Epoch: 182, Loss: 0.000101\n",
      "Epoch: 183, Loss: 0.000208\n",
      "Epoch: 184, Loss: 0.000084\n",
      "Epoch: 185, Loss: 0.000049\n",
      "Epoch: 186, Loss: 0.000162\n",
      "Epoch: 187, Loss: 0.000159\n",
      "Epoch: 188, Loss: 0.000241\n",
      "Epoch: 189, Loss: 0.000262\n",
      "Epoch: 190, Loss: 0.000011\n",
      "Epoch: 191, Loss: 0.000239\n",
      "Epoch: 192, Loss: 0.000152\n",
      "Epoch: 193, Loss: 0.000066\n",
      "Epoch: 194, Loss: 0.000050\n",
      "Epoch: 195, Loss: 0.000132\n",
      "Epoch: 196, Loss: 0.000094\n",
      "Epoch: 197, Loss: 0.000105\n",
      "Epoch: 198, Loss: 0.000031\n",
      "Epoch: 199, Loss: 0.000071\n"
     ]
    }
   ],
   "source": [
    "\n",
    "import torch\n",
    "import torch.nn as nn\n",
    "import torch.optim as optim\n",
    "\n",
    "train_loader = torch.utils.data.DataLoader(cifar2, batch_size=64,\n",
    "                                           shuffle=True)\n",
    "\n",
    "model = nn.Sequential(\n",
    "            nn.Linear(3072, 1024),\n",
    "            nn.Tanh(),\n",
    "            nn.Linear(1024, 512),\n",
    "            nn.Tanh(),\n",
    "            nn.Linear(512, 128),\n",
    "            nn.Tanh(),\n",
    "            nn.Linear(128, 2))\n",
    "\n",
    "learning_rate = 1e-2\n",
    "\n",
    "optimizer = optim.SGD(model.parameters(), lr=learning_rate)\n",
    "\n",
    "loss_fn = nn.CrossEntropyLoss()\n",
    "\n",
    "n_epochs = 200\n",
    "\n",
    "for epoch in range(n_epochs):\n",
    "    for imgs, labels in train_loader:\n",
    "        outputs = model(imgs.view(imgs.shape[0], -1))\n",
    "        loss = loss_fn(outputs, labels)\n",
    "\n",
    "        optimizer.zero_grad()\n",
    "        loss.backward()\n",
    "        optimizer.step()\n",
    "        \n",
    "\n",
    "    print(\"Epoch: %d, Loss: %f\" % (epoch, float(loss)))"
   ]
  },
  {
   "cell_type": "code",
   "execution_count": 42,
   "metadata": {},
   "outputs": [
    {
     "name": "stdout",
     "output_type": "stream",
     "text": [
      "Accuracy: 1.000000\n"
     ]
    }
   ],
   "source": [
    "train_loader = torch.utils.data.DataLoader(cifar2, batch_size=64,\n",
    "                                           shuffle=False)\n",
    "\n",
    "correct = 0\n",
    "total = 0\n",
    "\n",
    "with torch.no_grad():\n",
    "    for imgs, labels in train_loader:\n",
    "        outputs = model(imgs.view(imgs.shape[0], -1))\n",
    "        _, predicted = torch.max(outputs, dim=1)\n",
    "        total += labels.shape[0]\n",
    "        correct += int((predicted == labels).sum())\n",
    "        \n",
    "print(\"Accuracy: %f\" % (correct / total))"
   ]
  },
  {
   "cell_type": "code",
   "execution_count": 43,
   "metadata": {},
   "outputs": [
    {
     "name": "stdout",
     "output_type": "stream",
     "text": [
      "Accuracy: 0.900000\n"
     ]
    }
   ],
   "source": [
    "val_loader = torch.utils.data.DataLoader(cifar2_val, batch_size=64,\n",
    "                                         shuffle=False)\n",
    "\n",
    "correct = 0\n",
    "total = 0\n",
    "\n",
    "with torch.no_grad():\n",
    "    for imgs, labels in val_loader:\n",
    "        outputs = model(imgs.view(imgs.shape[0], -1))\n",
    "        _, predicted = torch.max(outputs, dim=1)\n",
    "        total += labels.shape[0]\n",
    "        correct += int((predicted == labels).sum())\n",
    "        \n",
    "print(\"Accuracy: %f\" % (correct / total))"
   ]
  },
  {
   "cell_type": "code",
   "execution_count": 44,
   "metadata": {},
   "outputs": [
    {
     "data": {
      "text/plain": [
       "3737474"
      ]
     },
     "execution_count": 44,
     "metadata": {},
     "output_type": "execute_result"
    }
   ],
   "source": [
    "sum([p.numel() for p in model.parameters()])"
   ]
  },
  {
   "cell_type": "code",
   "execution_count": 45,
   "metadata": {},
   "outputs": [
    {
     "data": {
      "text/plain": [
       "3737474"
      ]
     },
     "execution_count": 45,
     "metadata": {},
     "output_type": "execute_result"
    }
   ],
   "source": [
    "\n",
    "sum([p.numel() for p in model.parameters() if p.requires_grad == True])"
   ]
  },
  {
   "cell_type": "code",
   "execution_count": 46,
   "metadata": {},
   "outputs": [
    {
     "data": {
      "text/plain": [
       "1574402"
      ]
     },
     "execution_count": 46,
     "metadata": {},
     "output_type": "execute_result"
    }
   ],
   "source": [
    "first_model = nn.Sequential(\n",
    "                nn.Linear(3072, 512),\n",
    "                nn.Tanh(),\n",
    "                nn.Linear(512, 2),\n",
    "                nn.LogSoftmax(dim=1))\n",
    "\n",
    "sum([p.numel() for p in first_model.parameters()])"
   ]
  },
  {
   "cell_type": "code",
   "execution_count": 47,
   "metadata": {},
   "outputs": [
    {
     "data": {
      "text/plain": [
       "1573376"
      ]
     },
     "execution_count": 47,
     "metadata": {},
     "output_type": "execute_result"
    }
   ],
   "source": [
    "sum([p.numel() for p in nn.Linear(3072, 512).parameters()])\n"
   ]
  },
  {
   "cell_type": "code",
   "execution_count": 48,
   "metadata": {},
   "outputs": [
    {
     "data": {
      "text/plain": [
       "3146752"
      ]
     },
     "execution_count": 48,
     "metadata": {},
     "output_type": "execute_result"
    }
   ],
   "source": [
    "sum([p.numel() for p in nn.Linear(3072, 1024).parameters()])\n"
   ]
  },
  {
   "cell_type": "code",
   "execution_count": 49,
   "metadata": {},
   "outputs": [
    {
     "data": {
      "text/plain": [
       "(torch.Size([1024, 3072]), torch.Size([1024]))"
      ]
     },
     "execution_count": 49,
     "metadata": {},
     "output_type": "execute_result"
    }
   ],
   "source": [
    "linear = nn.Linear(3072, 1024)\n",
    "\n",
    "linear.weight.shape, linear.bias.shape\n"
   ]
  },
  {
   "cell_type": "code",
   "execution_count": 50,
   "metadata": {},
   "outputs": [],
   "source": [
    "conv = nn.Conv2d(3, 16, kernel_size=3)"
   ]
  },
  {
   "cell_type": "code",
   "execution_count": 51,
   "metadata": {},
   "outputs": [
    {
     "data": {
      "text/plain": [
       "torch.Size([16, 3, 3, 3])"
      ]
     },
     "execution_count": 51,
     "metadata": {},
     "output_type": "execute_result"
    }
   ],
   "source": [
    "conv.weight.shape"
   ]
  },
  {
   "cell_type": "code",
   "execution_count": 52,
   "metadata": {},
   "outputs": [],
   "source": [
    "img, _ = cifar2[0]\n",
    "\n",
    "output = conv(img.unsqueeze(0))"
   ]
  },
  {
   "cell_type": "code",
   "execution_count": 53,
   "metadata": {},
   "outputs": [
    {
     "data": {
      "text/plain": [
       "(torch.Size([1, 3, 32, 32]), torch.Size([1, 16, 30, 30]))"
      ]
     },
     "execution_count": 53,
     "metadata": {},
     "output_type": "execute_result"
    }
   ],
   "source": [
    "img.unsqueeze(0).shape, output.shape"
   ]
  },
  {
   "cell_type": "code",
   "execution_count": 54,
   "metadata": {},
   "outputs": [
    {
     "name": "stderr",
     "output_type": "stream",
     "text": [
      "Clipping input data to the valid range for imshow with RGB data ([0..1] for floats or [0..255] for integers).\n"
     ]
    },
    {
     "data": {
      "image/png": "[encoded data removed]",
      "text/plain": [
       "<Figure size 432x288 with 1 Axes>"
      ]
     },
     "metadata": {
      "needs_background": "light"
     },
     "output_type": "display_data"
    }
   ],
   "source": [
    "plt.imshow(img.permute(1, 2, 0), cmap='gray')\n",
    "plt.show()"
   ]
  },
  {
   "cell_type": "code",
   "execution_count": 55,
   "metadata": {},
   "outputs": [
    {
     "data": {
      "image/png": "[encoded data removed]",
      "text/plain": [
       "<Figure size 432x288 with 1 Axes>"
      ]
     },
     "metadata": {
      "needs_background": "light"
     },
     "output_type": "display_data"
    }
   ],
   "source": [
    "plt.imshow(output[0, 0].detach(), cmap='gray')\n",
    "plt.show()"
   ]
  },
  {
   "cell_type": "code",
   "execution_count": 56,
   "metadata": {},
   "outputs": [
    {
     "data": {
      "text/plain": [
       "torch.Size([1, 16, 30, 30])"
      ]
     },
     "execution_count": 56,
     "metadata": {},
     "output_type": "execute_result"
    }
   ],
   "source": [
    "output.shape"
   ]
  },
  {
   "cell_type": "code",
   "execution_count": 57,
   "metadata": {},
   "outputs": [],
   "source": [
    "conv = nn.Conv2d(3, 1, kernel_size=3, padding=1)"
   ]
  },
  {
   "cell_type": "code",
   "execution_count": 58,
   "metadata": {},
   "outputs": [
    {
     "data": {
      "text/plain": [
       "torch.Size([1, 1, 32, 32])"
      ]
     },
     "execution_count": 58,
     "metadata": {},
     "output_type": "execute_result"
    }
   ],
   "source": [
    "output = conv(img.unsqueeze(0))\n",
    "\n",
    "output.shape"
   ]
  },
  {
   "cell_type": "code",
   "execution_count": 59,
   "metadata": {},
   "outputs": [],
   "source": [
    "with torch.no_grad():\n",
    "    conv.bias.zero_()"
   ]
  },
  {
   "cell_type": "code",
   "execution_count": 60,
   "metadata": {},
   "outputs": [],
   "source": [
    "with torch.no_grad():\n",
    "    conv.weight.fill_(1.0 / 9.0)"
   ]
  },
  {
   "cell_type": "code",
   "execution_count": 61,
   "metadata": {},
   "outputs": [
    {
     "data": {
      "image/png": "[encoded data removed]",
      "text/plain": [
       "<Figure size 432x288 with 1 Axes>"
      ]
     },
     "metadata": {
      "needs_background": "light"
     },
     "output_type": "display_data"
    }
   ],
   "source": [
    "\n",
    "output = conv(img.unsqueeze(0))\n",
    "plt.imshow(output[0, 0].detach(), cmap='gray')\n",
    "plt.show()"
   ]
  },
  {
   "cell_type": "code",
   "execution_count": 62,
   "metadata": {},
   "outputs": [],
   "source": [
    "conv = nn.Conv2d(3, 1, kernel_size=3, padding=1)\n",
    "\n",
    "with torch.no_grad():\n",
    "    conv.weight[:] = torch.tensor([[-1.0, 0.0, 1.0],\n",
    "                                   [-1.0, 0.0, 1.0],\n",
    "                                   [-1.0, 0.0, 1.0]])\n",
    "    conv.bias.zero_()"
   ]
  },
  {
   "cell_type": "code",
   "execution_count": 63,
   "metadata": {},
   "outputs": [
    {
     "data": {
      "image/png": "[encoded data removed]",
      "text/plain": [
       "<Figure size 432x288 with 1 Axes>"
      ]
     },
     "metadata": {
      "needs_background": "light"
     },
     "output_type": "display_data"
    }
   ],
   "source": [
    "output = conv(img.unsqueeze(0))\n",
    "plt.imshow(output[0, 0].detach(), cmap='gray')\n",
    "plt.show()"
   ]
  },
  {
   "cell_type": "code",
   "execution_count": 64,
   "metadata": {},
   "outputs": [],
   "source": [
    "pool = nn.MaxPool2d(2)"
   ]
  },
  {
   "cell_type": "code",
   "execution_count": 65,
   "metadata": {},
   "outputs": [
    {
     "data": {
      "text/plain": [
       "torch.Size([1, 3, 16, 16])"
      ]
     },
     "execution_count": 65,
     "metadata": {},
     "output_type": "execute_result"
    }
   ],
   "source": [
    "output = pool(img.unsqueeze(0))\n",
    "\n",
    "output.shape"
   ]
  },
  {
   "cell_type": "code",
   "execution_count": null,
   "metadata": {},
   "outputs": [],
   "source": []
  },
  {
   "cell_type": "code",
   "execution_count": null,
   "metadata": {},
   "outputs": [],
   "source": []
  }
 ],
 "metadata": {
  "kernelspec": {
   "display_name": "Python 3",
   "language": "python",
   "name": "python3"
  },
  "language_info": {
   "codemirror_mode": {
    "name": "ipython",
    "version": 3
   },
   "file_extension": ".py",
   "mimetype": "text/x-python",
   "name": "python",
   "nbconvert_exporter": "python",
   "pygments_lexer": "ipython3",
   "version": "3.8.5"
  }
 },
 "nbformat": 4,
 "nbformat_minor": 4
}
